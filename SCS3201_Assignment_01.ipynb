{
  "nbformat": 4,
  "nbformat_minor": 0,
  "metadata": {
    "colab": {
      "name": "SCS3201 - Assignment 01.ipynb",
      "provenance": [],
      "authorship_tag": "ABX9TyPSgJ/huWRZ2CzD8lw2/TMW",
      "include_colab_link": true
    },
    "kernelspec": {
      "name": "python3",
      "display_name": "Python 3"
    },
    "language_info": {
      "name": "python"
    }
  },
  "cells": [
    {
      "cell_type": "markdown",
      "metadata": {
        "id": "view-in-github",
        "colab_type": "text"
      },
      "source": [
        "<a href=\"https://colab.research.google.com/github/Prasadkpd/SCS3201-Machine-Learning---Assignment-01/blob/master/SCS3201_Assignment_01.ipynb\" target=\"_parent\"><img src=\"https://colab.research.google.com/assets/colab-badge.svg\" alt=\"Open In Colab\"/></a>"
      ]
    },
    {
      "cell_type": "markdown",
      "source": [
        "#SCS3201 Machine Learning and Neural Computing\n",
        "## Assignment 01\n",
        "\n"
      ],
      "metadata": {
        "id": "fFtiwHGeZKMA"
      }
    },
    {
      "cell_type": "markdown",
      "source": [
        "\n",
        "\n",
        "# 1.   Multivariate Linear Regression\n",
        "\n",
        "## • Selection and a brief introduction to the data sets\n",
        "---\n",
        "The data set below was obtained from the UCI ML Repository. For about 4.5 months, the data set has been set to 10 minutes. A ZigBee wireless sensor network was used to monitor the temperature and humidity levels in the house. Each wireless node transmitted the temperature and humidity levels every 3.3 minutes. The wireless data was then averaged over 10-minute intervals. m-bus energy meters were used to record energy data every 10 minutes. The nearest airport weather station (Chievres Airport, Belgium) was downloaded from a public data set on Reliable Prognosis (rp5.ru) and merged with the experimental data sets using the date and time columns.\n",
        "\n",
        "Selected Dataset [https://archive.ics.uci.edu/ml/machine-learning-databases/00374/energydata_complete.csv](https://archive.ics.uci.edu/ml/machine-learning-databases/00374/energydata_complete.csv)\n",
        "\n",
        "## • The objective of each task \n",
        "---\n",
        "Experiment data is being used to build regression models of appliance energy consumption in a low-energy building. To be more specific, the energy consumption in Wh lights varies with changes in temperature, windspeed, humidity, visibility, and so on.\n",
        "\n"
      ],
      "metadata": {
        "id": "GETUr6r9ZrB5"
      }
    },
    {
      "cell_type": "markdown",
      "source": [
        "## • Data preprocessing\n",
        "\n",
        "---\n"
      ],
      "metadata": {
        "id": "Bo7cA-XgcPSY"
      }
    },
    {
      "cell_type": "code",
      "execution_count": null,
      "metadata": {
        "id": "iRLFqv2JZDPX"
      },
      "outputs": [],
      "source": [
        "# Importing required libraries\n",
        "import pandas as pd\n",
        "import numpy as np\n",
        "import matplotlib.pyplot as plt"
      ]
    },
    {
      "cell_type": "code",
      "source": [
        "# Importing data set from UCI\n",
        "dataFile = 'https://archive.ics.uci.edu/ml/machine-learning-databases/00374/energydata_complete.csv'"
      ],
      "metadata": {
        "id": "p9BvN2ULcvWf"
      },
      "execution_count": null,
      "outputs": []
    },
    {
      "cell_type": "code",
      "source": [
        "# Read data from the file\n",
        "data = pd.read_csv(dataFile,header=None)\n",
        "data.head()"
      ],
      "metadata": {
        "colab": {
          "base_uri": "https://localhost:8080/",
          "height": 438
        },
        "id": "hw1HLTkPd21g",
        "outputId": "9191e7bd-152b-4618-a54d-6e0f4ab8b863"
      },
      "execution_count": null,
      "outputs": [
        {
          "output_type": "execute_result",
          "data": {
            "text/plain": [
              "                    0           1       2                   3   \\\n",
              "0                 date  Appliances  lights                  T1   \n",
              "1  2016-01-11 17:00:00          60      30  19.890000000000001   \n",
              "2  2016-01-11 17:10:00          60      30  19.890000000000001   \n",
              "3  2016-01-11 17:20:00          50      30  19.890000000000001   \n",
              "4  2016-01-11 17:30:00          50      40  19.890000000000001   \n",
              "\n",
              "                   4                   5                   6   \\\n",
              "0                RH_1                  T2                RH_2   \n",
              "1  47.596666666666700  19.199999999999999  44.789999999999999   \n",
              "2  46.693333333333300  19.199999999999999  44.722499999999997   \n",
              "3  46.299999999999997  19.199999999999999  44.626666666666701   \n",
              "4  46.066666666666698  19.199999999999999  44.590000000000003   \n",
              "\n",
              "                   7                   8                   9   ...  \\\n",
              "0                  T3                RH_3                  T4  ...   \n",
              "1  19.789999999999999  44.729999999999997  19.000000000000000  ...   \n",
              "2  19.789999999999999  44.789999999999999  19.000000000000000  ...   \n",
              "3  19.789999999999999  44.933333333333302  18.926666666666701  ...   \n",
              "4  19.789999999999999  45.000000000000000  18.890000000000001  ...   \n",
              "\n",
              "                   19                  20                       21  \\\n",
              "0                  T9                RH_9                    T_out   \n",
              "1  17.033333333333299  45.530000000000001   6.5999999999999996e+00   \n",
              "2  17.066666666666698  45.560000000000002   6.4833333333333298e+00   \n",
              "3  17.000000000000000  45.500000000000000   6.3666666666666698e+00   \n",
              "4  17.000000000000000  45.399999999999999   6.2500000000000000e+00   \n",
              "\n",
              "                   22                   23                    24  \\\n",
              "0         Press_mm_hg               RH_out             Windspeed   \n",
              "1  733.50000000000000   92.000000000000000   7.00000000000000000   \n",
              "2  733.60000000000002   92.000000000000000   6.66666666666666963   \n",
              "3  733.70000000000005   92.000000000000000   6.33333333333333037   \n",
              "4  733.79999999999995   92.000000000000000   6.00000000000000000   \n",
              "\n",
              "                    25                       26                      27  \\\n",
              "0           Visibility                Tdewpoint                     rv1   \n",
              "1  63.0000000000000000   5.2999999999999998e+00  13.2754331571049988270   \n",
              "2  59.1666666666666998   5.2000000000000002e+00  18.6061949818395078182   \n",
              "3  55.3333333333333002   5.0999999999999996e+00  28.6426681675948202610   \n",
              "4  51.5000000000000000   5.0000000000000000e+00  45.4103894997388124466   \n",
              "\n",
              "                       28  \n",
              "0                     rv2  \n",
              "1  13.2754331571049988270  \n",
              "2  18.6061949818395078182  \n",
              "3  28.6426681675948202610  \n",
              "4  45.4103894997388124466  \n",
              "\n",
              "[5 rows x 29 columns]"
            ],
            "text/html": [
              "\n",
              "  <div id=\"df-50622715-503d-4763-b987-e70ca3cb7a2b\">\n",
              "    <div class=\"colab-df-container\">\n",
              "      <div>\n",
              "<style scoped>\n",
              "    .dataframe tbody tr th:only-of-type {\n",
              "        vertical-align: middle;\n",
              "    }\n",
              "\n",
              "    .dataframe tbody tr th {\n",
              "        vertical-align: top;\n",
              "    }\n",
              "\n",
              "    .dataframe thead th {\n",
              "        text-align: right;\n",
              "    }\n",
              "</style>\n",
              "<table border=\"1\" class=\"dataframe\">\n",
              "  <thead>\n",
              "    <tr style=\"text-align: right;\">\n",
              "      <th></th>\n",
              "      <th>0</th>\n",
              "      <th>1</th>\n",
              "      <th>2</th>\n",
              "      <th>3</th>\n",
              "      <th>4</th>\n",
              "      <th>5</th>\n",
              "      <th>6</th>\n",
              "      <th>7</th>\n",
              "      <th>8</th>\n",
              "      <th>9</th>\n",
              "      <th>...</th>\n",
              "      <th>19</th>\n",
              "      <th>20</th>\n",
              "      <th>21</th>\n",
              "      <th>22</th>\n",
              "      <th>23</th>\n",
              "      <th>24</th>\n",
              "      <th>25</th>\n",
              "      <th>26</th>\n",
              "      <th>27</th>\n",
              "      <th>28</th>\n",
              "    </tr>\n",
              "  </thead>\n",
              "  <tbody>\n",
              "    <tr>\n",
              "      <th>0</th>\n",
              "      <td>date</td>\n",
              "      <td>Appliances</td>\n",
              "      <td>lights</td>\n",
              "      <td>T1</td>\n",
              "      <td>RH_1</td>\n",
              "      <td>T2</td>\n",
              "      <td>RH_2</td>\n",
              "      <td>T3</td>\n",
              "      <td>RH_3</td>\n",
              "      <td>T4</td>\n",
              "      <td>...</td>\n",
              "      <td>T9</td>\n",
              "      <td>RH_9</td>\n",
              "      <td>T_out</td>\n",
              "      <td>Press_mm_hg</td>\n",
              "      <td>RH_out</td>\n",
              "      <td>Windspeed</td>\n",
              "      <td>Visibility</td>\n",
              "      <td>Tdewpoint</td>\n",
              "      <td>rv1</td>\n",
              "      <td>rv2</td>\n",
              "    </tr>\n",
              "    <tr>\n",
              "      <th>1</th>\n",
              "      <td>2016-01-11 17:00:00</td>\n",
              "      <td>60</td>\n",
              "      <td>30</td>\n",
              "      <td>19.890000000000001</td>\n",
              "      <td>47.596666666666700</td>\n",
              "      <td>19.199999999999999</td>\n",
              "      <td>44.789999999999999</td>\n",
              "      <td>19.789999999999999</td>\n",
              "      <td>44.729999999999997</td>\n",
              "      <td>19.000000000000000</td>\n",
              "      <td>...</td>\n",
              "      <td>17.033333333333299</td>\n",
              "      <td>45.530000000000001</td>\n",
              "      <td>6.5999999999999996e+00</td>\n",
              "      <td>733.50000000000000</td>\n",
              "      <td>92.000000000000000</td>\n",
              "      <td>7.00000000000000000</td>\n",
              "      <td>63.0000000000000000</td>\n",
              "      <td>5.2999999999999998e+00</td>\n",
              "      <td>13.2754331571049988270</td>\n",
              "      <td>13.2754331571049988270</td>\n",
              "    </tr>\n",
              "    <tr>\n",
              "      <th>2</th>\n",
              "      <td>2016-01-11 17:10:00</td>\n",
              "      <td>60</td>\n",
              "      <td>30</td>\n",
              "      <td>19.890000000000001</td>\n",
              "      <td>46.693333333333300</td>\n",
              "      <td>19.199999999999999</td>\n",
              "      <td>44.722499999999997</td>\n",
              "      <td>19.789999999999999</td>\n",
              "      <td>44.789999999999999</td>\n",
              "      <td>19.000000000000000</td>\n",
              "      <td>...</td>\n",
              "      <td>17.066666666666698</td>\n",
              "      <td>45.560000000000002</td>\n",
              "      <td>6.4833333333333298e+00</td>\n",
              "      <td>733.60000000000002</td>\n",
              "      <td>92.000000000000000</td>\n",
              "      <td>6.66666666666666963</td>\n",
              "      <td>59.1666666666666998</td>\n",
              "      <td>5.2000000000000002e+00</td>\n",
              "      <td>18.6061949818395078182</td>\n",
              "      <td>18.6061949818395078182</td>\n",
              "    </tr>\n",
              "    <tr>\n",
              "      <th>3</th>\n",
              "      <td>2016-01-11 17:20:00</td>\n",
              "      <td>50</td>\n",
              "      <td>30</td>\n",
              "      <td>19.890000000000001</td>\n",
              "      <td>46.299999999999997</td>\n",
              "      <td>19.199999999999999</td>\n",
              "      <td>44.626666666666701</td>\n",
              "      <td>19.789999999999999</td>\n",
              "      <td>44.933333333333302</td>\n",
              "      <td>18.926666666666701</td>\n",
              "      <td>...</td>\n",
              "      <td>17.000000000000000</td>\n",
              "      <td>45.500000000000000</td>\n",
              "      <td>6.3666666666666698e+00</td>\n",
              "      <td>733.70000000000005</td>\n",
              "      <td>92.000000000000000</td>\n",
              "      <td>6.33333333333333037</td>\n",
              "      <td>55.3333333333333002</td>\n",
              "      <td>5.0999999999999996e+00</td>\n",
              "      <td>28.6426681675948202610</td>\n",
              "      <td>28.6426681675948202610</td>\n",
              "    </tr>\n",
              "    <tr>\n",
              "      <th>4</th>\n",
              "      <td>2016-01-11 17:30:00</td>\n",
              "      <td>50</td>\n",
              "      <td>40</td>\n",
              "      <td>19.890000000000001</td>\n",
              "      <td>46.066666666666698</td>\n",
              "      <td>19.199999999999999</td>\n",
              "      <td>44.590000000000003</td>\n",
              "      <td>19.789999999999999</td>\n",
              "      <td>45.000000000000000</td>\n",
              "      <td>18.890000000000001</td>\n",
              "      <td>...</td>\n",
              "      <td>17.000000000000000</td>\n",
              "      <td>45.399999999999999</td>\n",
              "      <td>6.2500000000000000e+00</td>\n",
              "      <td>733.79999999999995</td>\n",
              "      <td>92.000000000000000</td>\n",
              "      <td>6.00000000000000000</td>\n",
              "      <td>51.5000000000000000</td>\n",
              "      <td>5.0000000000000000e+00</td>\n",
              "      <td>45.4103894997388124466</td>\n",
              "      <td>45.4103894997388124466</td>\n",
              "    </tr>\n",
              "  </tbody>\n",
              "</table>\n",
              "<p>5 rows × 29 columns</p>\n",
              "</div>\n",
              "      <button class=\"colab-df-convert\" onclick=\"convertToInteractive('df-50622715-503d-4763-b987-e70ca3cb7a2b')\"\n",
              "              title=\"Convert this dataframe to an interactive table.\"\n",
              "              style=\"display:none;\">\n",
              "        \n",
              "  <svg xmlns=\"http://www.w3.org/2000/svg\" height=\"24px\"viewBox=\"0 0 24 24\"\n",
              "       width=\"24px\">\n",
              "    <path d=\"M0 0h24v24H0V0z\" fill=\"none\"/>\n",
              "    <path d=\"M18.56 5.44l.94 2.06.94-2.06 2.06-.94-2.06-.94-.94-2.06-.94 2.06-2.06.94zm-11 1L8.5 8.5l.94-2.06 2.06-.94-2.06-.94L8.5 2.5l-.94 2.06-2.06.94zm10 10l.94 2.06.94-2.06 2.06-.94-2.06-.94-.94-2.06-.94 2.06-2.06.94z\"/><path d=\"M17.41 7.96l-1.37-1.37c-.4-.4-.92-.59-1.43-.59-.52 0-1.04.2-1.43.59L10.3 9.45l-7.72 7.72c-.78.78-.78 2.05 0 2.83L4 21.41c.39.39.9.59 1.41.59.51 0 1.02-.2 1.41-.59l7.78-7.78 2.81-2.81c.8-.78.8-2.07 0-2.86zM5.41 20L4 18.59l7.72-7.72 1.47 1.35L5.41 20z\"/>\n",
              "  </svg>\n",
              "      </button>\n",
              "      \n",
              "  <style>\n",
              "    .colab-df-container {\n",
              "      display:flex;\n",
              "      flex-wrap:wrap;\n",
              "      gap: 12px;\n",
              "    }\n",
              "\n",
              "    .colab-df-convert {\n",
              "      background-color: #E8F0FE;\n",
              "      border: none;\n",
              "      border-radius: 50%;\n",
              "      cursor: pointer;\n",
              "      display: none;\n",
              "      fill: #1967D2;\n",
              "      height: 32px;\n",
              "      padding: 0 0 0 0;\n",
              "      width: 32px;\n",
              "    }\n",
              "\n",
              "    .colab-df-convert:hover {\n",
              "      background-color: #E2EBFA;\n",
              "      box-shadow: 0px 1px 2px rgba(60, 64, 67, 0.3), 0px 1px 3px 1px rgba(60, 64, 67, 0.15);\n",
              "      fill: #174EA6;\n",
              "    }\n",
              "\n",
              "    [theme=dark] .colab-df-convert {\n",
              "      background-color: #3B4455;\n",
              "      fill: #D2E3FC;\n",
              "    }\n",
              "\n",
              "    [theme=dark] .colab-df-convert:hover {\n",
              "      background-color: #434B5C;\n",
              "      box-shadow: 0px 1px 3px 1px rgba(0, 0, 0, 0.15);\n",
              "      filter: drop-shadow(0px 1px 2px rgba(0, 0, 0, 0.3));\n",
              "      fill: #FFFFFF;\n",
              "    }\n",
              "  </style>\n",
              "\n",
              "      <script>\n",
              "        const buttonEl =\n",
              "          document.querySelector('#df-50622715-503d-4763-b987-e70ca3cb7a2b button.colab-df-convert');\n",
              "        buttonEl.style.display =\n",
              "          google.colab.kernel.accessAllowed ? 'block' : 'none';\n",
              "\n",
              "        async function convertToInteractive(key) {\n",
              "          const element = document.querySelector('#df-50622715-503d-4763-b987-e70ca3cb7a2b');\n",
              "          const dataTable =\n",
              "            await google.colab.kernel.invokeFunction('convertToInteractive',\n",
              "                                                     [key], {});\n",
              "          if (!dataTable) return;\n",
              "\n",
              "          const docLinkHtml = 'Like what you see? Visit the ' +\n",
              "            '<a target=\"_blank\" href=https://colab.research.google.com/notebooks/data_table.ipynb>data table notebook</a>'\n",
              "            + ' to learn more about interactive tables.';\n",
              "          element.innerHTML = '';\n",
              "          dataTable['output_type'] = 'display_data';\n",
              "          await google.colab.output.renderOutput(dataTable, element);\n",
              "          const docLink = document.createElement('div');\n",
              "          docLink.innerHTML = docLinkHtml;\n",
              "          element.appendChild(docLink);\n",
              "        }\n",
              "      </script>\n",
              "    </div>\n",
              "  </div>\n",
              "  "
            ]
          },
          "metadata": {},
          "execution_count": 118
        }
      ]
    },
    {
      "cell_type": "code",
      "source": [
        "# Convert into Dataframe\n",
        "df = pd.DataFrame(data)\n",
        "# Remove Unwanted Columns\n",
        "df.drop(df.iloc[:,3:21],inplace=True, axis =1)\n",
        "df.drop([0, 1],inplace=True, axis =1)\n",
        "# Remove Header\n",
        "df.drop([0],inplace=True, axis = 0)\n",
        "df.head()"
      ],
      "metadata": {
        "colab": {
          "base_uri": "https://localhost:8080/",
          "height": 206
        },
        "id": "gbF6VsLCeIef",
        "outputId": "4704fdaa-df72-4a33-e52e-c676fa0b523d"
      },
      "execution_count": null,
      "outputs": [
        {
          "output_type": "execute_result",
          "data": {
            "text/plain": [
              "   2                        21                  22                   23  \\\n",
              "1  30   6.5999999999999996e+00  733.50000000000000   92.000000000000000   \n",
              "2  30   6.4833333333333298e+00  733.60000000000002   92.000000000000000   \n",
              "3  30   6.3666666666666698e+00  733.70000000000005   92.000000000000000   \n",
              "4  40   6.2500000000000000e+00  733.79999999999995   92.000000000000000   \n",
              "5  40   6.1333333333333302e+00  733.89999999999998   92.000000000000000   \n",
              "\n",
              "                     24                   25                       26  \\\n",
              "1   7.00000000000000000  63.0000000000000000   5.2999999999999998e+00   \n",
              "2   6.66666666666666963  59.1666666666666998   5.2000000000000002e+00   \n",
              "3   6.33333333333333037  55.3333333333333002   5.0999999999999996e+00   \n",
              "4   6.00000000000000000  51.5000000000000000   5.0000000000000000e+00   \n",
              "5   5.66666666666666963  47.6666666666666998   4.9000000000000004e+00   \n",
              "\n",
              "                       27                      28  \n",
              "1  13.2754331571049988270  13.2754331571049988270  \n",
              "2  18.6061949818395078182  18.6061949818395078182  \n",
              "3  28.6426681675948202610  28.6426681675948202610  \n",
              "4  45.4103894997388124466  45.4103894997388124466  \n",
              "5  10.0840965518727898598  10.0840965518727898598  "
            ],
            "text/html": [
              "\n",
              "  <div id=\"df-c8d53b5d-bc2a-49b8-9781-6e3bc8b6c028\">\n",
              "    <div class=\"colab-df-container\">\n",
              "      <div>\n",
              "<style scoped>\n",
              "    .dataframe tbody tr th:only-of-type {\n",
              "        vertical-align: middle;\n",
              "    }\n",
              "\n",
              "    .dataframe tbody tr th {\n",
              "        vertical-align: top;\n",
              "    }\n",
              "\n",
              "    .dataframe thead th {\n",
              "        text-align: right;\n",
              "    }\n",
              "</style>\n",
              "<table border=\"1\" class=\"dataframe\">\n",
              "  <thead>\n",
              "    <tr style=\"text-align: right;\">\n",
              "      <th></th>\n",
              "      <th>2</th>\n",
              "      <th>21</th>\n",
              "      <th>22</th>\n",
              "      <th>23</th>\n",
              "      <th>24</th>\n",
              "      <th>25</th>\n",
              "      <th>26</th>\n",
              "      <th>27</th>\n",
              "      <th>28</th>\n",
              "    </tr>\n",
              "  </thead>\n",
              "  <tbody>\n",
              "    <tr>\n",
              "      <th>1</th>\n",
              "      <td>30</td>\n",
              "      <td>6.5999999999999996e+00</td>\n",
              "      <td>733.50000000000000</td>\n",
              "      <td>92.000000000000000</td>\n",
              "      <td>7.00000000000000000</td>\n",
              "      <td>63.0000000000000000</td>\n",
              "      <td>5.2999999999999998e+00</td>\n",
              "      <td>13.2754331571049988270</td>\n",
              "      <td>13.2754331571049988270</td>\n",
              "    </tr>\n",
              "    <tr>\n",
              "      <th>2</th>\n",
              "      <td>30</td>\n",
              "      <td>6.4833333333333298e+00</td>\n",
              "      <td>733.60000000000002</td>\n",
              "      <td>92.000000000000000</td>\n",
              "      <td>6.66666666666666963</td>\n",
              "      <td>59.1666666666666998</td>\n",
              "      <td>5.2000000000000002e+00</td>\n",
              "      <td>18.6061949818395078182</td>\n",
              "      <td>18.6061949818395078182</td>\n",
              "    </tr>\n",
              "    <tr>\n",
              "      <th>3</th>\n",
              "      <td>30</td>\n",
              "      <td>6.3666666666666698e+00</td>\n",
              "      <td>733.70000000000005</td>\n",
              "      <td>92.000000000000000</td>\n",
              "      <td>6.33333333333333037</td>\n",
              "      <td>55.3333333333333002</td>\n",
              "      <td>5.0999999999999996e+00</td>\n",
              "      <td>28.6426681675948202610</td>\n",
              "      <td>28.6426681675948202610</td>\n",
              "    </tr>\n",
              "    <tr>\n",
              "      <th>4</th>\n",
              "      <td>40</td>\n",
              "      <td>6.2500000000000000e+00</td>\n",
              "      <td>733.79999999999995</td>\n",
              "      <td>92.000000000000000</td>\n",
              "      <td>6.00000000000000000</td>\n",
              "      <td>51.5000000000000000</td>\n",
              "      <td>5.0000000000000000e+00</td>\n",
              "      <td>45.4103894997388124466</td>\n",
              "      <td>45.4103894997388124466</td>\n",
              "    </tr>\n",
              "    <tr>\n",
              "      <th>5</th>\n",
              "      <td>40</td>\n",
              "      <td>6.1333333333333302e+00</td>\n",
              "      <td>733.89999999999998</td>\n",
              "      <td>92.000000000000000</td>\n",
              "      <td>5.66666666666666963</td>\n",
              "      <td>47.6666666666666998</td>\n",
              "      <td>4.9000000000000004e+00</td>\n",
              "      <td>10.0840965518727898598</td>\n",
              "      <td>10.0840965518727898598</td>\n",
              "    </tr>\n",
              "  </tbody>\n",
              "</table>\n",
              "</div>\n",
              "      <button class=\"colab-df-convert\" onclick=\"convertToInteractive('df-c8d53b5d-bc2a-49b8-9781-6e3bc8b6c028')\"\n",
              "              title=\"Convert this dataframe to an interactive table.\"\n",
              "              style=\"display:none;\">\n",
              "        \n",
              "  <svg xmlns=\"http://www.w3.org/2000/svg\" height=\"24px\"viewBox=\"0 0 24 24\"\n",
              "       width=\"24px\">\n",
              "    <path d=\"M0 0h24v24H0V0z\" fill=\"none\"/>\n",
              "    <path d=\"M18.56 5.44l.94 2.06.94-2.06 2.06-.94-2.06-.94-.94-2.06-.94 2.06-2.06.94zm-11 1L8.5 8.5l.94-2.06 2.06-.94-2.06-.94L8.5 2.5l-.94 2.06-2.06.94zm10 10l.94 2.06.94-2.06 2.06-.94-2.06-.94-.94-2.06-.94 2.06-2.06.94z\"/><path d=\"M17.41 7.96l-1.37-1.37c-.4-.4-.92-.59-1.43-.59-.52 0-1.04.2-1.43.59L10.3 9.45l-7.72 7.72c-.78.78-.78 2.05 0 2.83L4 21.41c.39.39.9.59 1.41.59.51 0 1.02-.2 1.41-.59l7.78-7.78 2.81-2.81c.8-.78.8-2.07 0-2.86zM5.41 20L4 18.59l7.72-7.72 1.47 1.35L5.41 20z\"/>\n",
              "  </svg>\n",
              "      </button>\n",
              "      \n",
              "  <style>\n",
              "    .colab-df-container {\n",
              "      display:flex;\n",
              "      flex-wrap:wrap;\n",
              "      gap: 12px;\n",
              "    }\n",
              "\n",
              "    .colab-df-convert {\n",
              "      background-color: #E8F0FE;\n",
              "      border: none;\n",
              "      border-radius: 50%;\n",
              "      cursor: pointer;\n",
              "      display: none;\n",
              "      fill: #1967D2;\n",
              "      height: 32px;\n",
              "      padding: 0 0 0 0;\n",
              "      width: 32px;\n",
              "    }\n",
              "\n",
              "    .colab-df-convert:hover {\n",
              "      background-color: #E2EBFA;\n",
              "      box-shadow: 0px 1px 2px rgba(60, 64, 67, 0.3), 0px 1px 3px 1px rgba(60, 64, 67, 0.15);\n",
              "      fill: #174EA6;\n",
              "    }\n",
              "\n",
              "    [theme=dark] .colab-df-convert {\n",
              "      background-color: #3B4455;\n",
              "      fill: #D2E3FC;\n",
              "    }\n",
              "\n",
              "    [theme=dark] .colab-df-convert:hover {\n",
              "      background-color: #434B5C;\n",
              "      box-shadow: 0px 1px 3px 1px rgba(0, 0, 0, 0.15);\n",
              "      filter: drop-shadow(0px 1px 2px rgba(0, 0, 0, 0.3));\n",
              "      fill: #FFFFFF;\n",
              "    }\n",
              "  </style>\n",
              "\n",
              "      <script>\n",
              "        const buttonEl =\n",
              "          document.querySelector('#df-c8d53b5d-bc2a-49b8-9781-6e3bc8b6c028 button.colab-df-convert');\n",
              "        buttonEl.style.display =\n",
              "          google.colab.kernel.accessAllowed ? 'block' : 'none';\n",
              "\n",
              "        async function convertToInteractive(key) {\n",
              "          const element = document.querySelector('#df-c8d53b5d-bc2a-49b8-9781-6e3bc8b6c028');\n",
              "          const dataTable =\n",
              "            await google.colab.kernel.invokeFunction('convertToInteractive',\n",
              "                                                     [key], {});\n",
              "          if (!dataTable) return;\n",
              "\n",
              "          const docLinkHtml = 'Like what you see? Visit the ' +\n",
              "            '<a target=\"_blank\" href=https://colab.research.google.com/notebooks/data_table.ipynb>data table notebook</a>'\n",
              "            + ' to learn more about interactive tables.';\n",
              "          element.innerHTML = '';\n",
              "          dataTable['output_type'] = 'display_data';\n",
              "          await google.colab.output.renderOutput(dataTable, element);\n",
              "          const docLink = document.createElement('div');\n",
              "          docLink.innerHTML = docLinkHtml;\n",
              "          element.appendChild(docLink);\n",
              "        }\n",
              "      </script>\n",
              "    </div>\n",
              "  </div>\n",
              "  "
            ]
          },
          "metadata": {},
          "execution_count": 119
        }
      ]
    },
    {
      "cell_type": "code",
      "source": [
        "# Convert values to float\n",
        "df = df.astype(float)"
      ],
      "metadata": {
        "id": "AMF945Ylkj9o"
      },
      "execution_count": null,
      "outputs": []
    },
    {
      "cell_type": "code",
      "source": [
        "# Get shape of the data\n",
        "df.shape"
      ],
      "metadata": {
        "colab": {
          "base_uri": "https://localhost:8080/"
        },
        "id": "rgHoP0zLhD0f",
        "outputId": "b9ed1004-9045-4ff6-eba4-78aef2734f51"
      },
      "execution_count": null,
      "outputs": [
        {
          "output_type": "execute_result",
          "data": {
            "text/plain": [
              "(19735, 9)"
            ]
          },
          "metadata": {},
          "execution_count": 121
        }
      ]
    },
    {
      "cell_type": "code",
      "source": [
        "# Get Infomation about data\n",
        "df.info"
      ],
      "metadata": {
        "colab": {
          "base_uri": "https://localhost:8080/"
        },
        "id": "eomugr36hOaG",
        "outputId": "115f35f2-a037-4d8a-f23b-bb7c8a599cc5"
      },
      "execution_count": null,
      "outputs": [
        {
          "output_type": "execute_result",
          "data": {
            "text/plain": [
              "<bound method DataFrame.info of          2          21     22         23        24         25         26  \\\n",
              "1      30.0   6.600000  733.5  92.000000  7.000000  63.000000   5.300000   \n",
              "2      30.0   6.483333  733.6  92.000000  6.666667  59.166667   5.200000   \n",
              "3      30.0   6.366667  733.7  92.000000  6.333333  55.333333   5.100000   \n",
              "4      40.0   6.250000  733.8  92.000000  6.000000  51.500000   5.000000   \n",
              "5      40.0   6.133333  733.9  92.000000  5.666667  47.666667   4.900000   \n",
              "...     ...        ...    ...        ...       ...        ...        ...   \n",
              "19731   0.0  22.733333  755.2  55.666667  3.333333  23.666667  13.333333   \n",
              "19732   0.0  22.600000  755.2  56.000000  3.500000  24.500000  13.300000   \n",
              "19733  10.0  22.466667  755.2  56.333333  3.666667  25.333333  13.266667   \n",
              "19734  10.0  22.333333  755.2  56.666667  3.833333  26.166667  13.233333   \n",
              "19735  10.0  22.200000  755.2  57.000000  4.000000  27.000000  13.200000   \n",
              "\n",
              "              27         28  \n",
              "1      13.275433  13.275433  \n",
              "2      18.606195  18.606195  \n",
              "3      28.642668  28.642668  \n",
              "4      45.410389  45.410389  \n",
              "5      10.084097  10.084097  \n",
              "...          ...        ...  \n",
              "19731  43.096812  43.096812  \n",
              "19732  49.282940  49.282940  \n",
              "19733  29.199117  29.199117  \n",
              "19734   6.322784   6.322784  \n",
              "19735  34.118851  34.118851  \n",
              "\n",
              "[19735 rows x 9 columns]>"
            ]
          },
          "metadata": {},
          "execution_count": 122
        }
      ]
    },
    {
      "cell_type": "code",
      "source": [
        "# Adding Bias to DataFrame\n",
        "df = pd.concat([pd.Series(1, index=df.index, name=\"00\"), df], axis = 1)"
      ],
      "metadata": {
        "id": "CrkceShKhaiv"
      },
      "execution_count": null,
      "outputs": []
    },
    {
      "cell_type": "code",
      "source": [
        "# Preprocessed Data\n",
        "print(df)"
      ],
      "metadata": {
        "colab": {
          "base_uri": "https://localhost:8080/"
        },
        "id": "lXUrVyRulWx9",
        "outputId": "c12454f7-800a-4b23-e9d6-a21e26b92262"
      },
      "execution_count": null,
      "outputs": [
        {
          "output_type": "stream",
          "name": "stdout",
          "text": [
            "       00     2         21     22         23        24         25         26  \\\n",
            "1       1  30.0   6.600000  733.5  92.000000  7.000000  63.000000   5.300000   \n",
            "2       1  30.0   6.483333  733.6  92.000000  6.666667  59.166667   5.200000   \n",
            "3       1  30.0   6.366667  733.7  92.000000  6.333333  55.333333   5.100000   \n",
            "4       1  40.0   6.250000  733.8  92.000000  6.000000  51.500000   5.000000   \n",
            "5       1  40.0   6.133333  733.9  92.000000  5.666667  47.666667   4.900000   \n",
            "...    ..   ...        ...    ...        ...       ...        ...        ...   \n",
            "19731   1   0.0  22.733333  755.2  55.666667  3.333333  23.666667  13.333333   \n",
            "19732   1   0.0  22.600000  755.2  56.000000  3.500000  24.500000  13.300000   \n",
            "19733   1  10.0  22.466667  755.2  56.333333  3.666667  25.333333  13.266667   \n",
            "19734   1  10.0  22.333333  755.2  56.666667  3.833333  26.166667  13.233333   \n",
            "19735   1  10.0  22.200000  755.2  57.000000  4.000000  27.000000  13.200000   \n",
            "\n",
            "              27         28  \n",
            "1      13.275433  13.275433  \n",
            "2      18.606195  18.606195  \n",
            "3      28.642668  28.642668  \n",
            "4      45.410389  45.410389  \n",
            "5      10.084097  10.084097  \n",
            "...          ...        ...  \n",
            "19731  43.096812  43.096812  \n",
            "19732  49.282940  49.282940  \n",
            "19733  29.199117  29.199117  \n",
            "19734   6.322784   6.322784  \n",
            "19735  34.118851  34.118851  \n",
            "\n",
            "[19735 rows x 10 columns]\n"
          ]
        }
      ]
    },
    {
      "cell_type": "code",
      "source": [
        "# Independent Variable is x\n",
        "x = df.drop(columns=[21,22,23,24,25,26,27,28], axis=1)\n",
        "x.head()"
      ],
      "metadata": {
        "colab": {
          "base_uri": "https://localhost:8080/",
          "height": 206
        },
        "id": "ujE-c8ThmbfO",
        "outputId": "79a7ee68-3183-445f-fd38-9b8c5dca17aa"
      },
      "execution_count": null,
      "outputs": [
        {
          "output_type": "execute_result",
          "data": {
            "text/plain": [
              "   00     2\n",
              "1   1  30.0\n",
              "2   1  30.0\n",
              "3   1  30.0\n",
              "4   1  40.0\n",
              "5   1  40.0"
            ],
            "text/html": [
              "\n",
              "  <div id=\"df-b070b696-ea9f-4e0b-81af-e69e8a6d0c57\">\n",
              "    <div class=\"colab-df-container\">\n",
              "      <div>\n",
              "<style scoped>\n",
              "    .dataframe tbody tr th:only-of-type {\n",
              "        vertical-align: middle;\n",
              "    }\n",
              "\n",
              "    .dataframe tbody tr th {\n",
              "        vertical-align: top;\n",
              "    }\n",
              "\n",
              "    .dataframe thead th {\n",
              "        text-align: right;\n",
              "    }\n",
              "</style>\n",
              "<table border=\"1\" class=\"dataframe\">\n",
              "  <thead>\n",
              "    <tr style=\"text-align: right;\">\n",
              "      <th></th>\n",
              "      <th>00</th>\n",
              "      <th>2</th>\n",
              "    </tr>\n",
              "  </thead>\n",
              "  <tbody>\n",
              "    <tr>\n",
              "      <th>1</th>\n",
              "      <td>1</td>\n",
              "      <td>30.0</td>\n",
              "    </tr>\n",
              "    <tr>\n",
              "      <th>2</th>\n",
              "      <td>1</td>\n",
              "      <td>30.0</td>\n",
              "    </tr>\n",
              "    <tr>\n",
              "      <th>3</th>\n",
              "      <td>1</td>\n",
              "      <td>30.0</td>\n",
              "    </tr>\n",
              "    <tr>\n",
              "      <th>4</th>\n",
              "      <td>1</td>\n",
              "      <td>40.0</td>\n",
              "    </tr>\n",
              "    <tr>\n",
              "      <th>5</th>\n",
              "      <td>1</td>\n",
              "      <td>40.0</td>\n",
              "    </tr>\n",
              "  </tbody>\n",
              "</table>\n",
              "</div>\n",
              "      <button class=\"colab-df-convert\" onclick=\"convertToInteractive('df-b070b696-ea9f-4e0b-81af-e69e8a6d0c57')\"\n",
              "              title=\"Convert this dataframe to an interactive table.\"\n",
              "              style=\"display:none;\">\n",
              "        \n",
              "  <svg xmlns=\"http://www.w3.org/2000/svg\" height=\"24px\"viewBox=\"0 0 24 24\"\n",
              "       width=\"24px\">\n",
              "    <path d=\"M0 0h24v24H0V0z\" fill=\"none\"/>\n",
              "    <path d=\"M18.56 5.44l.94 2.06.94-2.06 2.06-.94-2.06-.94-.94-2.06-.94 2.06-2.06.94zm-11 1L8.5 8.5l.94-2.06 2.06-.94-2.06-.94L8.5 2.5l-.94 2.06-2.06.94zm10 10l.94 2.06.94-2.06 2.06-.94-2.06-.94-.94-2.06-.94 2.06-2.06.94z\"/><path d=\"M17.41 7.96l-1.37-1.37c-.4-.4-.92-.59-1.43-.59-.52 0-1.04.2-1.43.59L10.3 9.45l-7.72 7.72c-.78.78-.78 2.05 0 2.83L4 21.41c.39.39.9.59 1.41.59.51 0 1.02-.2 1.41-.59l7.78-7.78 2.81-2.81c.8-.78.8-2.07 0-2.86zM5.41 20L4 18.59l7.72-7.72 1.47 1.35L5.41 20z\"/>\n",
              "  </svg>\n",
              "      </button>\n",
              "      \n",
              "  <style>\n",
              "    .colab-df-container {\n",
              "      display:flex;\n",
              "      flex-wrap:wrap;\n",
              "      gap: 12px;\n",
              "    }\n",
              "\n",
              "    .colab-df-convert {\n",
              "      background-color: #E8F0FE;\n",
              "      border: none;\n",
              "      border-radius: 50%;\n",
              "      cursor: pointer;\n",
              "      display: none;\n",
              "      fill: #1967D2;\n",
              "      height: 32px;\n",
              "      padding: 0 0 0 0;\n",
              "      width: 32px;\n",
              "    }\n",
              "\n",
              "    .colab-df-convert:hover {\n",
              "      background-color: #E2EBFA;\n",
              "      box-shadow: 0px 1px 2px rgba(60, 64, 67, 0.3), 0px 1px 3px 1px rgba(60, 64, 67, 0.15);\n",
              "      fill: #174EA6;\n",
              "    }\n",
              "\n",
              "    [theme=dark] .colab-df-convert {\n",
              "      background-color: #3B4455;\n",
              "      fill: #D2E3FC;\n",
              "    }\n",
              "\n",
              "    [theme=dark] .colab-df-convert:hover {\n",
              "      background-color: #434B5C;\n",
              "      box-shadow: 0px 1px 3px 1px rgba(0, 0, 0, 0.15);\n",
              "      filter: drop-shadow(0px 1px 2px rgba(0, 0, 0, 0.3));\n",
              "      fill: #FFFFFF;\n",
              "    }\n",
              "  </style>\n",
              "\n",
              "      <script>\n",
              "        const buttonEl =\n",
              "          document.querySelector('#df-b070b696-ea9f-4e0b-81af-e69e8a6d0c57 button.colab-df-convert');\n",
              "        buttonEl.style.display =\n",
              "          google.colab.kernel.accessAllowed ? 'block' : 'none';\n",
              "\n",
              "        async function convertToInteractive(key) {\n",
              "          const element = document.querySelector('#df-b070b696-ea9f-4e0b-81af-e69e8a6d0c57');\n",
              "          const dataTable =\n",
              "            await google.colab.kernel.invokeFunction('convertToInteractive',\n",
              "                                                     [key], {});\n",
              "          if (!dataTable) return;\n",
              "\n",
              "          const docLinkHtml = 'Like what you see? Visit the ' +\n",
              "            '<a target=\"_blank\" href=https://colab.research.google.com/notebooks/data_table.ipynb>data table notebook</a>'\n",
              "            + ' to learn more about interactive tables.';\n",
              "          element.innerHTML = '';\n",
              "          dataTable['output_type'] = 'display_data';\n",
              "          await google.colab.output.renderOutput(dataTable, element);\n",
              "          const docLink = document.createElement('div');\n",
              "          docLink.innerHTML = docLinkHtml;\n",
              "          element.appendChild(docLink);\n",
              "        }\n",
              "      </script>\n",
              "    </div>\n",
              "  </div>\n",
              "  "
            ]
          },
          "metadata": {},
          "execution_count": 125
        }
      ]
    },
    {
      "cell_type": "code",
      "source": [
        "# Dependent variable\n",
        "y = df.iloc[:,1]\n",
        "y.head()"
      ],
      "metadata": {
        "colab": {
          "base_uri": "https://localhost:8080/"
        },
        "id": "Y82YTYfrr9ep",
        "outputId": "deeef168-84fe-4d28-be0b-43c7e2c13bac"
      },
      "execution_count": null,
      "outputs": [
        {
          "output_type": "execute_result",
          "data": {
            "text/plain": [
              "1    30.0\n",
              "2    30.0\n",
              "3    30.0\n",
              "4    40.0\n",
              "5    40.0\n",
              "Name: 2, dtype: float64"
            ]
          },
          "metadata": {},
          "execution_count": 126
        }
      ]
    },
    {
      "cell_type": "code",
      "source": [
        "# Normalize the fetures\n",
        "for i  in x.columns:\n",
        "  maxValue = max(x[i])\n",
        "  x[i] /= maxValue"
      ],
      "metadata": {
        "id": "IebMAYvPtu66"
      },
      "execution_count": null,
      "outputs": []
    },
    {
      "cell_type": "code",
      "source": [
        "# Normalized data\n",
        "x.head()"
      ],
      "metadata": {
        "colab": {
          "base_uri": "https://localhost:8080/",
          "height": 206
        },
        "id": "rVRwQ5bfuLlB",
        "outputId": "f09e876e-a2c0-4201-bf35-cf78cf1f695d"
      },
      "execution_count": null,
      "outputs": [
        {
          "output_type": "execute_result",
          "data": {
            "text/plain": [
              "    00         2\n",
              "1  1.0  0.428571\n",
              "2  1.0  0.428571\n",
              "3  1.0  0.428571\n",
              "4  1.0  0.571429\n",
              "5  1.0  0.571429"
            ],
            "text/html": [
              "\n",
              "  <div id=\"df-7fcc21f2-2b7c-4e4c-b190-33f2477f292e\">\n",
              "    <div class=\"colab-df-container\">\n",
              "      <div>\n",
              "<style scoped>\n",
              "    .dataframe tbody tr th:only-of-type {\n",
              "        vertical-align: middle;\n",
              "    }\n",
              "\n",
              "    .dataframe tbody tr th {\n",
              "        vertical-align: top;\n",
              "    }\n",
              "\n",
              "    .dataframe thead th {\n",
              "        text-align: right;\n",
              "    }\n",
              "</style>\n",
              "<table border=\"1\" class=\"dataframe\">\n",
              "  <thead>\n",
              "    <tr style=\"text-align: right;\">\n",
              "      <th></th>\n",
              "      <th>00</th>\n",
              "      <th>2</th>\n",
              "    </tr>\n",
              "  </thead>\n",
              "  <tbody>\n",
              "    <tr>\n",
              "      <th>1</th>\n",
              "      <td>1.0</td>\n",
              "      <td>0.428571</td>\n",
              "    </tr>\n",
              "    <tr>\n",
              "      <th>2</th>\n",
              "      <td>1.0</td>\n",
              "      <td>0.428571</td>\n",
              "    </tr>\n",
              "    <tr>\n",
              "      <th>3</th>\n",
              "      <td>1.0</td>\n",
              "      <td>0.428571</td>\n",
              "    </tr>\n",
              "    <tr>\n",
              "      <th>4</th>\n",
              "      <td>1.0</td>\n",
              "      <td>0.571429</td>\n",
              "    </tr>\n",
              "    <tr>\n",
              "      <th>5</th>\n",
              "      <td>1.0</td>\n",
              "      <td>0.571429</td>\n",
              "    </tr>\n",
              "  </tbody>\n",
              "</table>\n",
              "</div>\n",
              "      <button class=\"colab-df-convert\" onclick=\"convertToInteractive('df-7fcc21f2-2b7c-4e4c-b190-33f2477f292e')\"\n",
              "              title=\"Convert this dataframe to an interactive table.\"\n",
              "              style=\"display:none;\">\n",
              "        \n",
              "  <svg xmlns=\"http://www.w3.org/2000/svg\" height=\"24px\"viewBox=\"0 0 24 24\"\n",
              "       width=\"24px\">\n",
              "    <path d=\"M0 0h24v24H0V0z\" fill=\"none\"/>\n",
              "    <path d=\"M18.56 5.44l.94 2.06.94-2.06 2.06-.94-2.06-.94-.94-2.06-.94 2.06-2.06.94zm-11 1L8.5 8.5l.94-2.06 2.06-.94-2.06-.94L8.5 2.5l-.94 2.06-2.06.94zm10 10l.94 2.06.94-2.06 2.06-.94-2.06-.94-.94-2.06-.94 2.06-2.06.94z\"/><path d=\"M17.41 7.96l-1.37-1.37c-.4-.4-.92-.59-1.43-.59-.52 0-1.04.2-1.43.59L10.3 9.45l-7.72 7.72c-.78.78-.78 2.05 0 2.83L4 21.41c.39.39.9.59 1.41.59.51 0 1.02-.2 1.41-.59l7.78-7.78 2.81-2.81c.8-.78.8-2.07 0-2.86zM5.41 20L4 18.59l7.72-7.72 1.47 1.35L5.41 20z\"/>\n",
              "  </svg>\n",
              "      </button>\n",
              "      \n",
              "  <style>\n",
              "    .colab-df-container {\n",
              "      display:flex;\n",
              "      flex-wrap:wrap;\n",
              "      gap: 12px;\n",
              "    }\n",
              "\n",
              "    .colab-df-convert {\n",
              "      background-color: #E8F0FE;\n",
              "      border: none;\n",
              "      border-radius: 50%;\n",
              "      cursor: pointer;\n",
              "      display: none;\n",
              "      fill: #1967D2;\n",
              "      height: 32px;\n",
              "      padding: 0 0 0 0;\n",
              "      width: 32px;\n",
              "    }\n",
              "\n",
              "    .colab-df-convert:hover {\n",
              "      background-color: #E2EBFA;\n",
              "      box-shadow: 0px 1px 2px rgba(60, 64, 67, 0.3), 0px 1px 3px 1px rgba(60, 64, 67, 0.15);\n",
              "      fill: #174EA6;\n",
              "    }\n",
              "\n",
              "    [theme=dark] .colab-df-convert {\n",
              "      background-color: #3B4455;\n",
              "      fill: #D2E3FC;\n",
              "    }\n",
              "\n",
              "    [theme=dark] .colab-df-convert:hover {\n",
              "      background-color: #434B5C;\n",
              "      box-shadow: 0px 1px 3px 1px rgba(0, 0, 0, 0.15);\n",
              "      filter: drop-shadow(0px 1px 2px rgba(0, 0, 0, 0.3));\n",
              "      fill: #FFFFFF;\n",
              "    }\n",
              "  </style>\n",
              "\n",
              "      <script>\n",
              "        const buttonEl =\n",
              "          document.querySelector('#df-7fcc21f2-2b7c-4e4c-b190-33f2477f292e button.colab-df-convert');\n",
              "        buttonEl.style.display =\n",
              "          google.colab.kernel.accessAllowed ? 'block' : 'none';\n",
              "\n",
              "        async function convertToInteractive(key) {\n",
              "          const element = document.querySelector('#df-7fcc21f2-2b7c-4e4c-b190-33f2477f292e');\n",
              "          const dataTable =\n",
              "            await google.colab.kernel.invokeFunction('convertToInteractive',\n",
              "                                                     [key], {});\n",
              "          if (!dataTable) return;\n",
              "\n",
              "          const docLinkHtml = 'Like what you see? Visit the ' +\n",
              "            '<a target=\"_blank\" href=https://colab.research.google.com/notebooks/data_table.ipynb>data table notebook</a>'\n",
              "            + ' to learn more about interactive tables.';\n",
              "          element.innerHTML = '';\n",
              "          dataTable['output_type'] = 'display_data';\n",
              "          await google.colab.output.renderOutput(dataTable, element);\n",
              "          const docLink = document.createElement('div');\n",
              "          docLink.innerHTML = docLinkHtml;\n",
              "          element.appendChild(docLink);\n",
              "        }\n",
              "      </script>\n",
              "    </div>\n",
              "  </div>\n",
              "  "
            ]
          },
          "metadata": {},
          "execution_count": 128
        }
      ]
    },
    {
      "cell_type": "code",
      "source": [
        "# Split the dataset for testing and training\n",
        "from sklearn.model_selection import train_test_split # Import necessary library\n",
        "x_train, x_test, y_train, y_test = train_test_split(x, y, test_size= 0.4, random_state=69)"
      ],
      "metadata": {
        "id": "d7xVAeceuPXv"
      },
      "execution_count": null,
      "outputs": []
    },
    {
      "cell_type": "code",
      "source": [
        "print(x_train.shape)\n",
        "print(x_test.shape)\n",
        "print(y_train.shape)\n",
        "print(y_test.shape)"
      ],
      "metadata": {
        "colab": {
          "base_uri": "https://localhost:8080/"
        },
        "id": "qoJQYUxPvD61",
        "outputId": "42520b69-1cbd-4835-ec8f-57b8a622415d"
      },
      "execution_count": null,
      "outputs": [
        {
          "output_type": "stream",
          "name": "stdout",
          "text": [
            "(11841, 2)\n",
            "(7894, 2)\n",
            "(11841,)\n",
            "(7894,)\n"
          ]
        }
      ]
    },
    {
      "cell_type": "code",
      "source": [
        "# Initialized theta for cost function\n",
        "theta = np.random.randint(100, size=(len(x.columns)))\n",
        "theta"
      ],
      "metadata": {
        "colab": {
          "base_uri": "https://localhost:8080/"
        },
        "id": "w4hWBvzzvSON",
        "outputId": "2fecc5b9-6c4a-4e36-ef2a-8600976c7945"
      },
      "execution_count": null,
      "outputs": [
        {
          "output_type": "execute_result",
          "data": {
            "text/plain": [
              "array([60, 68])"
            ]
          },
          "metadata": {},
          "execution_count": 155
        }
      ]
    },
    {
      "cell_type": "code",
      "source": [
        "def costFunction(x, y, theta, N):\n",
        "\n",
        "    #hypothesis\n",
        "    hx = theta*x  \n",
        "    hx = np.sum(hx, axis=1)\n",
        "    finalCost = np.sum((hx-y)**2)/(2*N)\n",
        "    return finalCost"
      ],
      "metadata": {
        "id": "3y0Tn8FUvz7V"
      },
      "execution_count": null,
      "outputs": []
    },
    {
      "cell_type": "code",
      "source": [
        "def gradientDescent(x, y, theta, learningRate, iterationsAmount,N):\n",
        "\n",
        "    #An array to record the cost at each itertion of the algorithm\n",
        "    stepwiseCosts = [] \n",
        "    while (iterationsAmount>0): \n",
        "\n",
        "        #hypothesis   \n",
        "        hx = theta*x  \n",
        "        hx = np.sum(hx, axis=1) \n",
        "        \n",
        "        #Updating all the theta values\n",
        "        for j in range(0, len(x.columns)):\n",
        "            theta[j] = theta[j] - (learningRate/N)*(sum((hx-y)*x.iloc[:,j]))\n",
        "\n",
        "        #recording cost at each itertion to the above array\n",
        "        stepwiseCosts.append(costFunction(x, y, theta,N)) \n",
        "        iterationsAmount-=1\n",
        "\n",
        "    return stepwiseCosts, theta"
      ],
      "metadata": {
        "id": "m3aMVLELwiXE"
      },
      "execution_count": null,
      "outputs": []
    },
    {
      "cell_type": "markdown",
      "source": [
        "## • Model fitting"
      ],
      "metadata": {
        "id": "NP1t6odexA_I"
      }
    },
    {
      "cell_type": "code",
      "source": [
        "#Model configurations\n",
        "learningRate = 0.05\n",
        "iterationsAmount = 100\n",
        "#Number of datapoints\n",
        "N = float(len(df)) \n",
        "\n",
        "#Training the multivariate linear regression model\n",
        "stepwiseCosts, theta = gradientDescent(x_train, y_train, theta, learningRate, iterationsAmount,N)\n",
        "\n",
        "#Plotting convergence\n",
        "plt.figure()\n",
        "plt.xlabel('Number of iterations')\n",
        "plt.ylabel('Cost')\n",
        "plt.title('Convergence')\n",
        "plt.scatter(x=list(range(0, iterationsAmount)), y=stepwiseCosts)\n",
        "plt.show()"
      ],
      "metadata": {
        "colab": {
          "base_uri": "https://localhost:8080/",
          "height": 295
        },
        "id": "qbfL03I_xH2M",
        "outputId": "607cb16a-c73a-4fb3-aa2e-b3ca412b67ee"
      },
      "execution_count": null,
      "outputs": [
        {
          "output_type": "display_data",
          "data": {
            "text/plain": [
              "<Figure size 432x288 with 1 Axes>"
            ],
            "image/png": "[encoded data removed]"
          },
          "metadata": {
            "needs_background": "light"
          }
        }
      ]
    },
    {
      "cell_type": "markdown",
      "source": [
        "## • Evaluation"
      ],
      "metadata": {
        "id": "1E8JYgN_2Udh"
      }
    },
    {
      "cell_type": "code",
      "source": [
        "#Testing the accuracy of model with r2_score\n",
        "\n",
        "#hypothesis \n",
        "pred_y = theta*x_test \n",
        "pred_y = np.sum(pred_y, axis=1) \n",
        "\n",
        "from sklearn.metrics import r2_score\n",
        "print('The r2 score is: ',r2_score(y_test,pred_y))"
      ],
      "metadata": {
        "colab": {
          "base_uri": "https://localhost:8080/"
        },
        "id": "D4m_JikR2S-w",
        "outputId": "d5ee375d-c6d6-4438-84f7-81b76ac009c6"
      },
      "execution_count": null,
      "outputs": [
        {
          "output_type": "stream",
          "name": "stdout",
          "text": [
            "The r2 score is:  0.7052509363658976\n"
          ]
        }
      ]
    },
    {
      "cell_type": "code",
      "source": [
        ""
      ],
      "metadata": {
        "id": "5OqmzKpA3SuR"
      },
      "execution_count": null,
      "outputs": []
    },
    {
      "cell_type": "markdown",
      "source": [
        "## • Data preprocessing\n",
        "\n",
        "---\n"
      ],
      "metadata": {
        "id": "03crqoxa3UgK"
      }
    },
    {
      "cell_type": "code",
      "execution_count": null,
      "metadata": {
        "id": "RUhT5wnw3UgK"
      },
      "outputs": [],
      "source": [
        "# Importing required libraries\n",
        "import pandas as pd\n",
        "import numpy as np\n",
        "import matplotlib.pyplot as plt"
      ]
    },
    {
      "cell_type": "code",
      "source": [
        "# Importing data set from UCI\n",
        "dataFile = 'https://archive.ics.uci.edu/ml/machine-learning-databases/00374/energydata_complete.csv'"
      ],
      "metadata": {
        "id": "gSNAYN473UgK"
      },
      "execution_count": null,
      "outputs": []
    },
    {
      "cell_type": "code",
      "source": [
        "# Read data from the file\n",
        "data = pd.read_csv(dataFile,header=None)\n",
        "data.head()"
      ],
      "metadata": {
        "colab": {
          "base_uri": "https://localhost:8080/",
          "height": 438
        },
        "outputId": "9191e7bd-152b-4618-a54d-6e0f4ab8b863",
        "id": "x9ivJD5Z3UgL"
      },
      "execution_count": null,
      "outputs": [
        {
          "output_type": "execute_result",
          "data": {
            "text/plain": [
              "                    0           1       2                   3   \\\n",
              "0                 date  Appliances  lights                  T1   \n",
              "1  2016-01-11 17:00:00          60      30  19.890000000000001   \n",
              "2  2016-01-11 17:10:00          60      30  19.890000000000001   \n",
              "3  2016-01-11 17:20:00          50      30  19.890000000000001   \n",
              "4  2016-01-11 17:30:00          50      40  19.890000000000001   \n",
              "\n",
              "                   4                   5                   6   \\\n",
              "0                RH_1                  T2                RH_2   \n",
              "1  47.596666666666700  19.199999999999999  44.789999999999999   \n",
              "2  46.693333333333300  19.199999999999999  44.722499999999997   \n",
              "3  46.299999999999997  19.199999999999999  44.626666666666701   \n",
              "4  46.066666666666698  19.199999999999999  44.590000000000003   \n",
              "\n",
              "                   7                   8                   9   ...  \\\n",
              "0                  T3                RH_3                  T4  ...   \n",
              "1  19.789999999999999  44.729999999999997  19.000000000000000  ...   \n",
              "2  19.789999999999999  44.789999999999999  19.000000000000000  ...   \n",
              "3  19.789999999999999  44.933333333333302  18.926666666666701  ...   \n",
              "4  19.789999999999999  45.000000000000000  18.890000000000001  ...   \n",
              "\n",
              "                   19                  20                       21  \\\n",
              "0                  T9                RH_9                    T_out   \n",
              "1  17.033333333333299  45.530000000000001   6.5999999999999996e+00   \n",
              "2  17.066666666666698  45.560000000000002   6.4833333333333298e+00   \n",
              "3  17.000000000000000  45.500000000000000   6.3666666666666698e+00   \n",
              "4  17.000000000000000  45.399999999999999   6.2500000000000000e+00   \n",
              "\n",
              "                   22                   23                    24  \\\n",
              "0         Press_mm_hg               RH_out             Windspeed   \n",
              "1  733.50000000000000   92.000000000000000   7.00000000000000000   \n",
              "2  733.60000000000002   92.000000000000000   6.66666666666666963   \n",
              "3  733.70000000000005   92.000000000000000   6.33333333333333037   \n",
              "4  733.79999999999995   92.000000000000000   6.00000000000000000   \n",
              "\n",
              "                    25                       26                      27  \\\n",
              "0           Visibility                Tdewpoint                     rv1   \n",
              "1  63.0000000000000000   5.2999999999999998e+00  13.2754331571049988270   \n",
              "2  59.1666666666666998   5.2000000000000002e+00  18.6061949818395078182   \n",
              "3  55.3333333333333002   5.0999999999999996e+00  28.6426681675948202610   \n",
              "4  51.5000000000000000   5.0000000000000000e+00  45.4103894997388124466   \n",
              "\n",
              "                       28  \n",
              "0                     rv2  \n",
              "1  13.2754331571049988270  \n",
              "2  18.6061949818395078182  \n",
              "3  28.6426681675948202610  \n",
              "4  45.4103894997388124466  \n",
              "\n",
              "[5 rows x 29 columns]"
            ],
            "text/html": [
              "\n",
              "  <div id=\"df-50622715-503d-4763-b987-e70ca3cb7a2b\">\n",
              "    <div class=\"colab-df-container\">\n",
              "      <div>\n",
              "<style scoped>\n",
              "    .dataframe tbody tr th:only-of-type {\n",
              "        vertical-align: middle;\n",
              "    }\n",
              "\n",
              "    .dataframe tbody tr th {\n",
              "        vertical-align: top;\n",
              "    }\n",
              "\n",
              "    .dataframe thead th {\n",
              "        text-align: right;\n",
              "    }\n",
              "</style>\n",
              "<table border=\"1\" class=\"dataframe\">\n",
              "  <thead>\n",
              "    <tr style=\"text-align: right;\">\n",
              "      <th></th>\n",
              "      <th>0</th>\n",
              "      <th>1</th>\n",
              "      <th>2</th>\n",
              "      <th>3</th>\n",
              "      <th>4</th>\n",
              "      <th>5</th>\n",
              "      <th>6</th>\n",
              "      <th>7</th>\n",
              "      <th>8</th>\n",
              "      <th>9</th>\n",
              "      <th>...</th>\n",
              "      <th>19</th>\n",
              "      <th>20</th>\n",
              "      <th>21</th>\n",
              "      <th>22</th>\n",
              "      <th>23</th>\n",
              "      <th>24</th>\n",
              "      <th>25</th>\n",
              "      <th>26</th>\n",
              "      <th>27</th>\n",
              "      <th>28</th>\n",
              "    </tr>\n",
              "  </thead>\n",
              "  <tbody>\n",
              "    <tr>\n",
              "      <th>0</th>\n",
              "      <td>date</td>\n",
              "      <td>Appliances</td>\n",
              "      <td>lights</td>\n",
              "      <td>T1</td>\n",
              "      <td>RH_1</td>\n",
              "      <td>T2</td>\n",
              "      <td>RH_2</td>\n",
              "      <td>T3</td>\n",
              "      <td>RH_3</td>\n",
              "      <td>T4</td>\n",
              "      <td>...</td>\n",
              "      <td>T9</td>\n",
              "      <td>RH_9</td>\n",
              "      <td>T_out</td>\n",
              "      <td>Press_mm_hg</td>\n",
              "      <td>RH_out</td>\n",
              "      <td>Windspeed</td>\n",
              "      <td>Visibility</td>\n",
              "      <td>Tdewpoint</td>\n",
              "      <td>rv1</td>\n",
              "      <td>rv2</td>\n",
              "    </tr>\n",
              "    <tr>\n",
              "      <th>1</th>\n",
              "      <td>2016-01-11 17:00:00</td>\n",
              "      <td>60</td>\n",
              "      <td>30</td>\n",
              "      <td>19.890000000000001</td>\n",
              "      <td>47.596666666666700</td>\n",
              "      <td>19.199999999999999</td>\n",
              "      <td>44.789999999999999</td>\n",
              "      <td>19.789999999999999</td>\n",
              "      <td>44.729999999999997</td>\n",
              "      <td>19.000000000000000</td>\n",
              "      <td>...</td>\n",
              "      <td>17.033333333333299</td>\n",
              "      <td>45.530000000000001</td>\n",
              "      <td>6.5999999999999996e+00</td>\n",
              "      <td>733.50000000000000</td>\n",
              "      <td>92.000000000000000</td>\n",
              "      <td>7.00000000000000000</td>\n",
              "      <td>63.0000000000000000</td>\n",
              "      <td>5.2999999999999998e+00</td>\n",
              "      <td>13.2754331571049988270</td>\n",
              "      <td>13.2754331571049988270</td>\n",
              "    </tr>\n",
              "    <tr>\n",
              "      <th>2</th>\n",
              "      <td>2016-01-11 17:10:00</td>\n",
              "      <td>60</td>\n",
              "      <td>30</td>\n",
              "      <td>19.890000000000001</td>\n",
              "      <td>46.693333333333300</td>\n",
              "      <td>19.199999999999999</td>\n",
              "      <td>44.722499999999997</td>\n",
              "      <td>19.789999999999999</td>\n",
              "      <td>44.789999999999999</td>\n",
              "      <td>19.000000000000000</td>\n",
              "      <td>...</td>\n",
              "      <td>17.066666666666698</td>\n",
              "      <td>45.560000000000002</td>\n",
              "      <td>6.4833333333333298e+00</td>\n",
              "      <td>733.60000000000002</td>\n",
              "      <td>92.000000000000000</td>\n",
              "      <td>6.66666666666666963</td>\n",
              "      <td>59.1666666666666998</td>\n",
              "      <td>5.2000000000000002e+00</td>\n",
              "      <td>18.6061949818395078182</td>\n",
              "      <td>18.6061949818395078182</td>\n",
              "    </tr>\n",
              "    <tr>\n",
              "      <th>3</th>\n",
              "      <td>2016-01-11 17:20:00</td>\n",
              "      <td>50</td>\n",
              "      <td>30</td>\n",
              "      <td>19.890000000000001</td>\n",
              "      <td>46.299999999999997</td>\n",
              "      <td>19.199999999999999</td>\n",
              "      <td>44.626666666666701</td>\n",
              "      <td>19.789999999999999</td>\n",
              "      <td>44.933333333333302</td>\n",
              "      <td>18.926666666666701</td>\n",
              "      <td>...</td>\n",
              "      <td>17.000000000000000</td>\n",
              "      <td>45.500000000000000</td>\n",
              "      <td>6.3666666666666698e+00</td>\n",
              "      <td>733.70000000000005</td>\n",
              "      <td>92.000000000000000</td>\n",
              "      <td>6.33333333333333037</td>\n",
              "      <td>55.3333333333333002</td>\n",
              "      <td>5.0999999999999996e+00</td>\n",
              "      <td>28.6426681675948202610</td>\n",
              "      <td>28.6426681675948202610</td>\n",
              "    </tr>\n",
              "    <tr>\n",
              "      <th>4</th>\n",
              "      <td>2016-01-11 17:30:00</td>\n",
              "      <td>50</td>\n",
              "      <td>40</td>\n",
              "      <td>19.890000000000001</td>\n",
              "      <td>46.066666666666698</td>\n",
              "      <td>19.199999999999999</td>\n",
              "      <td>44.590000000000003</td>\n",
              "      <td>19.789999999999999</td>\n",
              "      <td>45.000000000000000</td>\n",
              "      <td>18.890000000000001</td>\n",
              "      <td>...</td>\n",
              "      <td>17.000000000000000</td>\n",
              "      <td>45.399999999999999</td>\n",
              "      <td>6.2500000000000000e+00</td>\n",
              "      <td>733.79999999999995</td>\n",
              "      <td>92.000000000000000</td>\n",
              "      <td>6.00000000000000000</td>\n",
              "      <td>51.5000000000000000</td>\n",
              "      <td>5.0000000000000000e+00</td>\n",
              "      <td>45.4103894997388124466</td>\n",
              "      <td>45.4103894997388124466</td>\n",
              "    </tr>\n",
              "  </tbody>\n",
              "</table>\n",
              "<p>5 rows × 29 columns</p>\n",
              "</div>\n",
              "      <button class=\"colab-df-convert\" onclick=\"convertToInteractive('df-50622715-503d-4763-b987-e70ca3cb7a2b')\"\n",
              "              title=\"Convert this dataframe to an interactive table.\"\n",
              "              style=\"display:none;\">\n",
              "        \n",
              "  <svg xmlns=\"http://www.w3.org/2000/svg\" height=\"24px\"viewBox=\"0 0 24 24\"\n",
              "       width=\"24px\">\n",
              "    <path d=\"M0 0h24v24H0V0z\" fill=\"none\"/>\n",
              "    <path d=\"M18.56 5.44l.94 2.06.94-2.06 2.06-.94-2.06-.94-.94-2.06-.94 2.06-2.06.94zm-11 1L8.5 8.5l.94-2.06 2.06-.94-2.06-.94L8.5 2.5l-.94 2.06-2.06.94zm10 10l.94 2.06.94-2.06 2.06-.94-2.06-.94-.94-2.06-.94 2.06-2.06.94z\"/><path d=\"M17.41 7.96l-1.37-1.37c-.4-.4-.92-.59-1.43-.59-.52 0-1.04.2-1.43.59L10.3 9.45l-7.72 7.72c-.78.78-.78 2.05 0 2.83L4 21.41c.39.39.9.59 1.41.59.51 0 1.02-.2 1.41-.59l7.78-7.78 2.81-2.81c.8-.78.8-2.07 0-2.86zM5.41 20L4 18.59l7.72-7.72 1.47 1.35L5.41 20z\"/>\n",
              "  </svg>\n",
              "      </button>\n",
              "      \n",
              "  <style>\n",
              "    .colab-df-container {\n",
              "      display:flex;\n",
              "      flex-wrap:wrap;\n",
              "      gap: 12px;\n",
              "    }\n",
              "\n",
              "    .colab-df-convert {\n",
              "      background-color: #E8F0FE;\n",
              "      border: none;\n",
              "      border-radius: 50%;\n",
              "      cursor: pointer;\n",
              "      display: none;\n",
              "      fill: #1967D2;\n",
              "      height: 32px;\n",
              "      padding: 0 0 0 0;\n",
              "      width: 32px;\n",
              "    }\n",
              "\n",
              "    .colab-df-convert:hover {\n",
              "      background-color: #E2EBFA;\n",
              "      box-shadow: 0px 1px 2px rgba(60, 64, 67, 0.3), 0px 1px 3px 1px rgba(60, 64, 67, 0.15);\n",
              "      fill: #174EA6;\n",
              "    }\n",
              "\n",
              "    [theme=dark] .colab-df-convert {\n",
              "      background-color: #3B4455;\n",
              "      fill: #D2E3FC;\n",
              "    }\n",
              "\n",
              "    [theme=dark] .colab-df-convert:hover {\n",
              "      background-color: #434B5C;\n",
              "      box-shadow: 0px 1px 3px 1px rgba(0, 0, 0, 0.15);\n",
              "      filter: drop-shadow(0px 1px 2px rgba(0, 0, 0, 0.3));\n",
              "      fill: #FFFFFF;\n",
              "    }\n",
              "  </style>\n",
              "\n",
              "      <script>\n",
              "        const buttonEl =\n",
              "          document.querySelector('#df-50622715-503d-4763-b987-e70ca3cb7a2b button.colab-df-convert');\n",
              "        buttonEl.style.display =\n",
              "          google.colab.kernel.accessAllowed ? 'block' : 'none';\n",
              "\n",
              "        async function convertToInteractive(key) {\n",
              "          const element = document.querySelector('#df-50622715-503d-4763-b987-e70ca3cb7a2b');\n",
              "          const dataTable =\n",
              "            await google.colab.kernel.invokeFunction('convertToInteractive',\n",
              "                                                     [key], {});\n",
              "          if (!dataTable) return;\n",
              "\n",
              "          const docLinkHtml = 'Like what you see? Visit the ' +\n",
              "            '<a target=\"_blank\" href=https://colab.research.google.com/notebooks/data_table.ipynb>data table notebook</a>'\n",
              "            + ' to learn more about interactive tables.';\n",
              "          element.innerHTML = '';\n",
              "          dataTable['output_type'] = 'display_data';\n",
              "          await google.colab.output.renderOutput(dataTable, element);\n",
              "          const docLink = document.createElement('div');\n",
              "          docLink.innerHTML = docLinkHtml;\n",
              "          element.appendChild(docLink);\n",
              "        }\n",
              "      </script>\n",
              "    </div>\n",
              "  </div>\n",
              "  "
            ]
          },
          "metadata": {},
          "execution_count": 118
        }
      ]
    },
    {
      "cell_type": "code",
      "source": [
        "# Convert into Dataframe\n",
        "df = pd.DataFrame(data)\n",
        "# Remove Unwanted Columns\n",
        "df.drop(df.iloc[:,3:21],inplace=True, axis =1)\n",
        "df.drop([0, 1],inplace=True, axis =1)\n",
        "# Remove Header\n",
        "df.drop([0],inplace=True, axis = 0)\n",
        "df.head()"
      ],
      "metadata": {
        "colab": {
          "base_uri": "https://localhost:8080/",
          "height": 206
        },
        "outputId": "4704fdaa-df72-4a33-e52e-c676fa0b523d",
        "id": "8xFeRWmn3UgL"
      },
      "execution_count": null,
      "outputs": [
        {
          "output_type": "execute_result",
          "data": {
            "text/plain": [
              "   2                        21                  22                   23  \\\n",
              "1  30   6.5999999999999996e+00  733.50000000000000   92.000000000000000   \n",
              "2  30   6.4833333333333298e+00  733.60000000000002   92.000000000000000   \n",
              "3  30   6.3666666666666698e+00  733.70000000000005   92.000000000000000   \n",
              "4  40   6.2500000000000000e+00  733.79999999999995   92.000000000000000   \n",
              "5  40   6.1333333333333302e+00  733.89999999999998   92.000000000000000   \n",
              "\n",
              "                     24                   25                       26  \\\n",
              "1   7.00000000000000000  63.0000000000000000   5.2999999999999998e+00   \n",
              "2   6.66666666666666963  59.1666666666666998   5.2000000000000002e+00   \n",
              "3   6.33333333333333037  55.3333333333333002   5.0999999999999996e+00   \n",
              "4   6.00000000000000000  51.5000000000000000   5.0000000000000000e+00   \n",
              "5   5.66666666666666963  47.6666666666666998   4.9000000000000004e+00   \n",
              "\n",
              "                       27                      28  \n",
              "1  13.2754331571049988270  13.2754331571049988270  \n",
              "2  18.6061949818395078182  18.6061949818395078182  \n",
              "3  28.6426681675948202610  28.6426681675948202610  \n",
              "4  45.4103894997388124466  45.4103894997388124466  \n",
              "5  10.0840965518727898598  10.0840965518727898598  "
            ],
            "text/html": [
              "\n",
              "  <div id=\"df-c8d53b5d-bc2a-49b8-9781-6e3bc8b6c028\">\n",
              "    <div class=\"colab-df-container\">\n",
              "      <div>\n",
              "<style scoped>\n",
              "    .dataframe tbody tr th:only-of-type {\n",
              "        vertical-align: middle;\n",
              "    }\n",
              "\n",
              "    .dataframe tbody tr th {\n",
              "        vertical-align: top;\n",
              "    }\n",
              "\n",
              "    .dataframe thead th {\n",
              "        text-align: right;\n",
              "    }\n",
              "</style>\n",
              "<table border=\"1\" class=\"dataframe\">\n",
              "  <thead>\n",
              "    <tr style=\"text-align: right;\">\n",
              "      <th></th>\n",
              "      <th>2</th>\n",
              "      <th>21</th>\n",
              "      <th>22</th>\n",
              "      <th>23</th>\n",
              "      <th>24</th>\n",
              "      <th>25</th>\n",
              "      <th>26</th>\n",
              "      <th>27</th>\n",
              "      <th>28</th>\n",
              "    </tr>\n",
              "  </thead>\n",
              "  <tbody>\n",
              "    <tr>\n",
              "      <th>1</th>\n",
              "      <td>30</td>\n",
              "      <td>6.5999999999999996e+00</td>\n",
              "      <td>733.50000000000000</td>\n",
              "      <td>92.000000000000000</td>\n",
              "      <td>7.00000000000000000</td>\n",
              "      <td>63.0000000000000000</td>\n",
              "      <td>5.2999999999999998e+00</td>\n",
              "      <td>13.2754331571049988270</td>\n",
              "      <td>13.2754331571049988270</td>\n",
              "    </tr>\n",
              "    <tr>\n",
              "      <th>2</th>\n",
              "      <td>30</td>\n",
              "      <td>6.4833333333333298e+00</td>\n",
              "      <td>733.60000000000002</td>\n",
              "      <td>92.000000000000000</td>\n",
              "      <td>6.66666666666666963</td>\n",
              "      <td>59.1666666666666998</td>\n",
              "      <td>5.2000000000000002e+00</td>\n",
              "      <td>18.6061949818395078182</td>\n",
              "      <td>18.6061949818395078182</td>\n",
              "    </tr>\n",
              "    <tr>\n",
              "      <th>3</th>\n",
              "      <td>30</td>\n",
              "      <td>6.3666666666666698e+00</td>\n",
              "      <td>733.70000000000005</td>\n",
              "      <td>92.000000000000000</td>\n",
              "      <td>6.33333333333333037</td>\n",
              "      <td>55.3333333333333002</td>\n",
              "      <td>5.0999999999999996e+00</td>\n",
              "      <td>28.6426681675948202610</td>\n",
              "      <td>28.6426681675948202610</td>\n",
              "    </tr>\n",
              "    <tr>\n",
              "      <th>4</th>\n",
              "      <td>40</td>\n",
              "      <td>6.2500000000000000e+00</td>\n",
              "      <td>733.79999999999995</td>\n",
              "      <td>92.000000000000000</td>\n",
              "      <td>6.00000000000000000</td>\n",
              "      <td>51.5000000000000000</td>\n",
              "      <td>5.0000000000000000e+00</td>\n",
              "      <td>45.4103894997388124466</td>\n",
              "      <td>45.4103894997388124466</td>\n",
              "    </tr>\n",
              "    <tr>\n",
              "      <th>5</th>\n",
              "      <td>40</td>\n",
              "      <td>6.1333333333333302e+00</td>\n",
              "      <td>733.89999999999998</td>\n",
              "      <td>92.000000000000000</td>\n",
              "      <td>5.66666666666666963</td>\n",
              "      <td>47.6666666666666998</td>\n",
              "      <td>4.9000000000000004e+00</td>\n",
              "      <td>10.0840965518727898598</td>\n",
              "      <td>10.0840965518727898598</td>\n",
              "    </tr>\n",
              "  </tbody>\n",
              "</table>\n",
              "</div>\n",
              "      <button class=\"colab-df-convert\" onclick=\"convertToInteractive('df-c8d53b5d-bc2a-49b8-9781-6e3bc8b6c028')\"\n",
              "              title=\"Convert this dataframe to an interactive table.\"\n",
              "              style=\"display:none;\">\n",
              "        \n",
              "  <svg xmlns=\"http://www.w3.org/2000/svg\" height=\"24px\"viewBox=\"0 0 24 24\"\n",
              "       width=\"24px\">\n",
              "    <path d=\"M0 0h24v24H0V0z\" fill=\"none\"/>\n",
              "    <path d=\"M18.56 5.44l.94 2.06.94-2.06 2.06-.94-2.06-.94-.94-2.06-.94 2.06-2.06.94zm-11 1L8.5 8.5l.94-2.06 2.06-.94-2.06-.94L8.5 2.5l-.94 2.06-2.06.94zm10 10l.94 2.06.94-2.06 2.06-.94-2.06-.94-.94-2.06-.94 2.06-2.06.94z\"/><path d=\"M17.41 7.96l-1.37-1.37c-.4-.4-.92-.59-1.43-.59-.52 0-1.04.2-1.43.59L10.3 9.45l-7.72 7.72c-.78.78-.78 2.05 0 2.83L4 21.41c.39.39.9.59 1.41.59.51 0 1.02-.2 1.41-.59l7.78-7.78 2.81-2.81c.8-.78.8-2.07 0-2.86zM5.41 20L4 18.59l7.72-7.72 1.47 1.35L5.41 20z\"/>\n",
              "  </svg>\n",
              "      </button>\n",
              "      \n",
              "  <style>\n",
              "    .colab-df-container {\n",
              "      display:flex;\n",
              "      flex-wrap:wrap;\n",
              "      gap: 12px;\n",
              "    }\n",
              "\n",
              "    .colab-df-convert {\n",
              "      background-color: #E8F0FE;\n",
              "      border: none;\n",
              "      border-radius: 50%;\n",
              "      cursor: pointer;\n",
              "      display: none;\n",
              "      fill: #1967D2;\n",
              "      height: 32px;\n",
              "      padding: 0 0 0 0;\n",
              "      width: 32px;\n",
              "    }\n",
              "\n",
              "    .colab-df-convert:hover {\n",
              "      background-color: #E2EBFA;\n",
              "      box-shadow: 0px 1px 2px rgba(60, 64, 67, 0.3), 0px 1px 3px 1px rgba(60, 64, 67, 0.15);\n",
              "      fill: #174EA6;\n",
              "    }\n",
              "\n",
              "    [theme=dark] .colab-df-convert {\n",
              "      background-color: #3B4455;\n",
              "      fill: #D2E3FC;\n",
              "    }\n",
              "\n",
              "    [theme=dark] .colab-df-convert:hover {\n",
              "      background-color: #434B5C;\n",
              "      box-shadow: 0px 1px 3px 1px rgba(0, 0, 0, 0.15);\n",
              "      filter: drop-shadow(0px 1px 2px rgba(0, 0, 0, 0.3));\n",
              "      fill: #FFFFFF;\n",
              "    }\n",
              "  </style>\n",
              "\n",
              "      <script>\n",
              "        const buttonEl =\n",
              "          document.querySelector('#df-c8d53b5d-bc2a-49b8-9781-6e3bc8b6c028 button.colab-df-convert');\n",
              "        buttonEl.style.display =\n",
              "          google.colab.kernel.accessAllowed ? 'block' : 'none';\n",
              "\n",
              "        async function convertToInteractive(key) {\n",
              "          const element = document.querySelector('#df-c8d53b5d-bc2a-49b8-9781-6e3bc8b6c028');\n",
              "          const dataTable =\n",
              "            await google.colab.kernel.invokeFunction('convertToInteractive',\n",
              "                                                     [key], {});\n",
              "          if (!dataTable) return;\n",
              "\n",
              "          const docLinkHtml = 'Like what you see? Visit the ' +\n",
              "            '<a target=\"_blank\" href=https://colab.research.google.com/notebooks/data_table.ipynb>data table notebook</a>'\n",
              "            + ' to learn more about interactive tables.';\n",
              "          element.innerHTML = '';\n",
              "          dataTable['output_type'] = 'display_data';\n",
              "          await google.colab.output.renderOutput(dataTable, element);\n",
              "          const docLink = document.createElement('div');\n",
              "          docLink.innerHTML = docLinkHtml;\n",
              "          element.appendChild(docLink);\n",
              "        }\n",
              "      </script>\n",
              "    </div>\n",
              "  </div>\n",
              "  "
            ]
          },
          "metadata": {},
          "execution_count": 119
        }
      ]
    },
    {
      "cell_type": "code",
      "source": [
        "# Convert values to float\n",
        "df = df.astype(float)"
      ],
      "metadata": {
        "id": "RQdGK3MT3UgL"
      },
      "execution_count": null,
      "outputs": []
    },
    {
      "cell_type": "code",
      "source": [
        "# Get shape of the data\n",
        "df.shape"
      ],
      "metadata": {
        "colab": {
          "base_uri": "https://localhost:8080/"
        },
        "outputId": "b9ed1004-9045-4ff6-eba4-78aef2734f51",
        "id": "k39vfBjU3UgL"
      },
      "execution_count": null,
      "outputs": [
        {
          "output_type": "execute_result",
          "data": {
            "text/plain": [
              "(19735, 9)"
            ]
          },
          "metadata": {},
          "execution_count": 121
        }
      ]
    },
    {
      "cell_type": "code",
      "source": [
        "# Get Infomation about data\n",
        "df.info"
      ],
      "metadata": {
        "colab": {
          "base_uri": "https://localhost:8080/"
        },
        "outputId": "115f35f2-a037-4d8a-f23b-bb7c8a599cc5",
        "id": "ZEm5FgsX3UgL"
      },
      "execution_count": null,
      "outputs": [
        {
          "output_type": "execute_result",
          "data": {
            "text/plain": [
              "<bound method DataFrame.info of          2          21     22         23        24         25         26  \\\n",
              "1      30.0   6.600000  733.5  92.000000  7.000000  63.000000   5.300000   \n",
              "2      30.0   6.483333  733.6  92.000000  6.666667  59.166667   5.200000   \n",
              "3      30.0   6.366667  733.7  92.000000  6.333333  55.333333   5.100000   \n",
              "4      40.0   6.250000  733.8  92.000000  6.000000  51.500000   5.000000   \n",
              "5      40.0   6.133333  733.9  92.000000  5.666667  47.666667   4.900000   \n",
              "...     ...        ...    ...        ...       ...        ...        ...   \n",
              "19731   0.0  22.733333  755.2  55.666667  3.333333  23.666667  13.333333   \n",
              "19732   0.0  22.600000  755.2  56.000000  3.500000  24.500000  13.300000   \n",
              "19733  10.0  22.466667  755.2  56.333333  3.666667  25.333333  13.266667   \n",
              "19734  10.0  22.333333  755.2  56.666667  3.833333  26.166667  13.233333   \n",
              "19735  10.0  22.200000  755.2  57.000000  4.000000  27.000000  13.200000   \n",
              "\n",
              "              27         28  \n",
              "1      13.275433  13.275433  \n",
              "2      18.606195  18.606195  \n",
              "3      28.642668  28.642668  \n",
              "4      45.410389  45.410389  \n",
              "5      10.084097  10.084097  \n",
              "...          ...        ...  \n",
              "19731  43.096812  43.096812  \n",
              "19732  49.282940  49.282940  \n",
              "19733  29.199117  29.199117  \n",
              "19734   6.322784   6.322784  \n",
              "19735  34.118851  34.118851  \n",
              "\n",
              "[19735 rows x 9 columns]>"
            ]
          },
          "metadata": {},
          "execution_count": 122
        }
      ]
    },
    {
      "cell_type": "code",
      "source": [
        "# Adding Bias to DataFrame\n",
        "df = pd.concat([pd.Series(1, index=df.index, name=\"00\"), df], axis = 1)"
      ],
      "metadata": {
        "id": "LM1-d3ef3UgL"
      },
      "execution_count": null,
      "outputs": []
    },
    {
      "cell_type": "code",
      "source": [
        "# Preprocessed Data\n",
        "print(df)"
      ],
      "metadata": {
        "colab": {
          "base_uri": "https://localhost:8080/"
        },
        "outputId": "c12454f7-800a-4b23-e9d6-a21e26b92262",
        "id": "1aJfr3m-3UgM"
      },
      "execution_count": null,
      "outputs": [
        {
          "output_type": "stream",
          "name": "stdout",
          "text": [
            "       00     2         21     22         23        24         25         26  \\\n",
            "1       1  30.0   6.600000  733.5  92.000000  7.000000  63.000000   5.300000   \n",
            "2       1  30.0   6.483333  733.6  92.000000  6.666667  59.166667   5.200000   \n",
            "3       1  30.0   6.366667  733.7  92.000000  6.333333  55.333333   5.100000   \n",
            "4       1  40.0   6.250000  733.8  92.000000  6.000000  51.500000   5.000000   \n",
            "5       1  40.0   6.133333  733.9  92.000000  5.666667  47.666667   4.900000   \n",
            "...    ..   ...        ...    ...        ...       ...        ...        ...   \n",
            "19731   1   0.0  22.733333  755.2  55.666667  3.333333  23.666667  13.333333   \n",
            "19732   1   0.0  22.600000  755.2  56.000000  3.500000  24.500000  13.300000   \n",
            "19733   1  10.0  22.466667  755.2  56.333333  3.666667  25.333333  13.266667   \n",
            "19734   1  10.0  22.333333  755.2  56.666667  3.833333  26.166667  13.233333   \n",
            "19735   1  10.0  22.200000  755.2  57.000000  4.000000  27.000000  13.200000   \n",
            "\n",
            "              27         28  \n",
            "1      13.275433  13.275433  \n",
            "2      18.606195  18.606195  \n",
            "3      28.642668  28.642668  \n",
            "4      45.410389  45.410389  \n",
            "5      10.084097  10.084097  \n",
            "...          ...        ...  \n",
            "19731  43.096812  43.096812  \n",
            "19732  49.282940  49.282940  \n",
            "19733  29.199117  29.199117  \n",
            "19734   6.322784   6.322784  \n",
            "19735  34.118851  34.118851  \n",
            "\n",
            "[19735 rows x 10 columns]\n"
          ]
        }
      ]
    },
    {
      "cell_type": "code",
      "source": [
        "# Independent Variable is x\n",
        "x = df.drop(columns=[21,22,23,24,25,26,27,28], axis=1)\n",
        "x.head()"
      ],
      "metadata": {
        "colab": {
          "base_uri": "https://localhost:8080/",
          "height": 206
        },
        "outputId": "79a7ee68-3183-445f-fd38-9b8c5dca17aa",
        "id": "qZjLZbYx3UgM"
      },
      "execution_count": null,
      "outputs": [
        {
          "output_type": "execute_result",
          "data": {
            "text/plain": [
              "   00     2\n",
              "1   1  30.0\n",
              "2   1  30.0\n",
              "3   1  30.0\n",
              "4   1  40.0\n",
              "5   1  40.0"
            ],
            "text/html": [
              "\n",
              "  <div id=\"df-b070b696-ea9f-4e0b-81af-e69e8a6d0c57\">\n",
              "    <div class=\"colab-df-container\">\n",
              "      <div>\n",
              "<style scoped>\n",
              "    .dataframe tbody tr th:only-of-type {\n",
              "        vertical-align: middle;\n",
              "    }\n",
              "\n",
              "    .dataframe tbody tr th {\n",
              "        vertical-align: top;\n",
              "    }\n",
              "\n",
              "    .dataframe thead th {\n",
              "        text-align: right;\n",
              "    }\n",
              "</style>\n",
              "<table border=\"1\" class=\"dataframe\">\n",
              "  <thead>\n",
              "    <tr style=\"text-align: right;\">\n",
              "      <th></th>\n",
              "      <th>00</th>\n",
              "      <th>2</th>\n",
              "    </tr>\n",
              "  </thead>\n",
              "  <tbody>\n",
              "    <tr>\n",
              "      <th>1</th>\n",
              "      <td>1</td>\n",
              "      <td>30.0</td>\n",
              "    </tr>\n",
              "    <tr>\n",
              "      <th>2</th>\n",
              "      <td>1</td>\n",
              "      <td>30.0</td>\n",
              "    </tr>\n",
              "    <tr>\n",
              "      <th>3</th>\n",
              "      <td>1</td>\n",
              "      <td>30.0</td>\n",
              "    </tr>\n",
              "    <tr>\n",
              "      <th>4</th>\n",
              "      <td>1</td>\n",
              "      <td>40.0</td>\n",
              "    </tr>\n",
              "    <tr>\n",
              "      <th>5</th>\n",
              "      <td>1</td>\n",
              "      <td>40.0</td>\n",
              "    </tr>\n",
              "  </tbody>\n",
              "</table>\n",
              "</div>\n",
              "      <button class=\"colab-df-convert\" onclick=\"convertToInteractive('df-b070b696-ea9f-4e0b-81af-e69e8a6d0c57')\"\n",
              "              title=\"Convert this dataframe to an interactive table.\"\n",
              "              style=\"display:none;\">\n",
              "        \n",
              "  <svg xmlns=\"http://www.w3.org/2000/svg\" height=\"24px\"viewBox=\"0 0 24 24\"\n",
              "       width=\"24px\">\n",
              "    <path d=\"M0 0h24v24H0V0z\" fill=\"none\"/>\n",
              "    <path d=\"M18.56 5.44l.94 2.06.94-2.06 2.06-.94-2.06-.94-.94-2.06-.94 2.06-2.06.94zm-11 1L8.5 8.5l.94-2.06 2.06-.94-2.06-.94L8.5 2.5l-.94 2.06-2.06.94zm10 10l.94 2.06.94-2.06 2.06-.94-2.06-.94-.94-2.06-.94 2.06-2.06.94z\"/><path d=\"M17.41 7.96l-1.37-1.37c-.4-.4-.92-.59-1.43-.59-.52 0-1.04.2-1.43.59L10.3 9.45l-7.72 7.72c-.78.78-.78 2.05 0 2.83L4 21.41c.39.39.9.59 1.41.59.51 0 1.02-.2 1.41-.59l7.78-7.78 2.81-2.81c.8-.78.8-2.07 0-2.86zM5.41 20L4 18.59l7.72-7.72 1.47 1.35L5.41 20z\"/>\n",
              "  </svg>\n",
              "      </button>\n",
              "      \n",
              "  <style>\n",
              "    .colab-df-container {\n",
              "      display:flex;\n",
              "      flex-wrap:wrap;\n",
              "      gap: 12px;\n",
              "    }\n",
              "\n",
              "    .colab-df-convert {\n",
              "      background-color: #E8F0FE;\n",
              "      border: none;\n",
              "      border-radius: 50%;\n",
              "      cursor: pointer;\n",
              "      display: none;\n",
              "      fill: #1967D2;\n",
              "      height: 32px;\n",
              "      padding: 0 0 0 0;\n",
              "      width: 32px;\n",
              "    }\n",
              "\n",
              "    .colab-df-convert:hover {\n",
              "      background-color: #E2EBFA;\n",
              "      box-shadow: 0px 1px 2px rgba(60, 64, 67, 0.3), 0px 1px 3px 1px rgba(60, 64, 67, 0.15);\n",
              "      fill: #174EA6;\n",
              "    }\n",
              "\n",
              "    [theme=dark] .colab-df-convert {\n",
              "      background-color: #3B4455;\n",
              "      fill: #D2E3FC;\n",
              "    }\n",
              "\n",
              "    [theme=dark] .colab-df-convert:hover {\n",
              "      background-color: #434B5C;\n",
              "      box-shadow: 0px 1px 3px 1px rgba(0, 0, 0, 0.15);\n",
              "      filter: drop-shadow(0px 1px 2px rgba(0, 0, 0, 0.3));\n",
              "      fill: #FFFFFF;\n",
              "    }\n",
              "  </style>\n",
              "\n",
              "      <script>\n",
              "        const buttonEl =\n",
              "          document.querySelector('#df-b070b696-ea9f-4e0b-81af-e69e8a6d0c57 button.colab-df-convert');\n",
              "        buttonEl.style.display =\n",
              "          google.colab.kernel.accessAllowed ? 'block' : 'none';\n",
              "\n",
              "        async function convertToInteractive(key) {\n",
              "          const element = document.querySelector('#df-b070b696-ea9f-4e0b-81af-e69e8a6d0c57');\n",
              "          const dataTable =\n",
              "            await google.colab.kernel.invokeFunction('convertToInteractive',\n",
              "                                                     [key], {});\n",
              "          if (!dataTable) return;\n",
              "\n",
              "          const docLinkHtml = 'Like what you see? Visit the ' +\n",
              "            '<a target=\"_blank\" href=https://colab.research.google.com/notebooks/data_table.ipynb>data table notebook</a>'\n",
              "            + ' to learn more about interactive tables.';\n",
              "          element.innerHTML = '';\n",
              "          dataTable['output_type'] = 'display_data';\n",
              "          await google.colab.output.renderOutput(dataTable, element);\n",
              "          const docLink = document.createElement('div');\n",
              "          docLink.innerHTML = docLinkHtml;\n",
              "          element.appendChild(docLink);\n",
              "        }\n",
              "      </script>\n",
              "    </div>\n",
              "  </div>\n",
              "  "
            ]
          },
          "metadata": {},
          "execution_count": 125
        }
      ]
    },
    {
      "cell_type": "code",
      "source": [
        "# Dependent variable\n",
        "y = df.iloc[:,1]\n",
        "y.head()"
      ],
      "metadata": {
        "colab": {
          "base_uri": "https://localhost:8080/"
        },
        "outputId": "deeef168-84fe-4d28-be0b-43c7e2c13bac",
        "id": "uoBFZqMK3UgM"
      },
      "execution_count": null,
      "outputs": [
        {
          "output_type": "execute_result",
          "data": {
            "text/plain": [
              "1    30.0\n",
              "2    30.0\n",
              "3    30.0\n",
              "4    40.0\n",
              "5    40.0\n",
              "Name: 2, dtype: float64"
            ]
          },
          "metadata": {},
          "execution_count": 126
        }
      ]
    },
    {
      "cell_type": "code",
      "source": [
        "# Normalize the fetures\n",
        "for i  in x.columns:\n",
        "  maxValue = max(x[i])\n",
        "  x[i] /= maxValue"
      ],
      "metadata": {
        "id": "8nqlse4g3UgM"
      },
      "execution_count": null,
      "outputs": []
    },
    {
      "cell_type": "code",
      "source": [
        "# Normalized data\n",
        "x.head()"
      ],
      "metadata": {
        "colab": {
          "base_uri": "https://localhost:8080/",
          "height": 206
        },
        "outputId": "f09e876e-a2c0-4201-bf35-cf78cf1f695d",
        "id": "okm1fz-Y3UgM"
      },
      "execution_count": null,
      "outputs": [
        {
          "output_type": "execute_result",
          "data": {
            "text/plain": [
              "    00         2\n",
              "1  1.0  0.428571\n",
              "2  1.0  0.428571\n",
              "3  1.0  0.428571\n",
              "4  1.0  0.571429\n",
              "5  1.0  0.571429"
            ],
            "text/html": [
              "\n",
              "  <div id=\"df-7fcc21f2-2b7c-4e4c-b190-33f2477f292e\">\n",
              "    <div class=\"colab-df-container\">\n",
              "      <div>\n",
              "<style scoped>\n",
              "    .dataframe tbody tr th:only-of-type {\n",
              "        vertical-align: middle;\n",
              "    }\n",
              "\n",
              "    .dataframe tbody tr th {\n",
              "        vertical-align: top;\n",
              "    }\n",
              "\n",
              "    .dataframe thead th {\n",
              "        text-align: right;\n",
              "    }\n",
              "</style>\n",
              "<table border=\"1\" class=\"dataframe\">\n",
              "  <thead>\n",
              "    <tr style=\"text-align: right;\">\n",
              "      <th></th>\n",
              "      <th>00</th>\n",
              "      <th>2</th>\n",
              "    </tr>\n",
              "  </thead>\n",
              "  <tbody>\n",
              "    <tr>\n",
              "      <th>1</th>\n",
              "      <td>1.0</td>\n",
              "      <td>0.428571</td>\n",
              "    </tr>\n",
              "    <tr>\n",
              "      <th>2</th>\n",
              "      <td>1.0</td>\n",
              "      <td>0.428571</td>\n",
              "    </tr>\n",
              "    <tr>\n",
              "      <th>3</th>\n",
              "      <td>1.0</td>\n",
              "      <td>0.428571</td>\n",
              "    </tr>\n",
              "    <tr>\n",
              "      <th>4</th>\n",
              "      <td>1.0</td>\n",
              "      <td>0.571429</td>\n",
              "    </tr>\n",
              "    <tr>\n",
              "      <th>5</th>\n",
              "      <td>1.0</td>\n",
              "      <td>0.571429</td>\n",
              "    </tr>\n",
              "  </tbody>\n",
              "</table>\n",
              "</div>\n",
              "      <button class=\"colab-df-convert\" onclick=\"convertToInteractive('df-7fcc21f2-2b7c-4e4c-b190-33f2477f292e')\"\n",
              "              title=\"Convert this dataframe to an interactive table.\"\n",
              "              style=\"display:none;\">\n",
              "        \n",
              "  <svg xmlns=\"http://www.w3.org/2000/svg\" height=\"24px\"viewBox=\"0 0 24 24\"\n",
              "       width=\"24px\">\n",
              "    <path d=\"M0 0h24v24H0V0z\" fill=\"none\"/>\n",
              "    <path d=\"M18.56 5.44l.94 2.06.94-2.06 2.06-.94-2.06-.94-.94-2.06-.94 2.06-2.06.94zm-11 1L8.5 8.5l.94-2.06 2.06-.94-2.06-.94L8.5 2.5l-.94 2.06-2.06.94zm10 10l.94 2.06.94-2.06 2.06-.94-2.06-.94-.94-2.06-.94 2.06-2.06.94z\"/><path d=\"M17.41 7.96l-1.37-1.37c-.4-.4-.92-.59-1.43-.59-.52 0-1.04.2-1.43.59L10.3 9.45l-7.72 7.72c-.78.78-.78 2.05 0 2.83L4 21.41c.39.39.9.59 1.41.59.51 0 1.02-.2 1.41-.59l7.78-7.78 2.81-2.81c.8-.78.8-2.07 0-2.86zM5.41 20L4 18.59l7.72-7.72 1.47 1.35L5.41 20z\"/>\n",
              "  </svg>\n",
              "      </button>\n",
              "      \n",
              "  <style>\n",
              "    .colab-df-container {\n",
              "      display:flex;\n",
              "      flex-wrap:wrap;\n",
              "      gap: 12px;\n",
              "    }\n",
              "\n",
              "    .colab-df-convert {\n",
              "      background-color: #E8F0FE;\n",
              "      border: none;\n",
              "      border-radius: 50%;\n",
              "      cursor: pointer;\n",
              "      display: none;\n",
              "      fill: #1967D2;\n",
              "      height: 32px;\n",
              "      padding: 0 0 0 0;\n",
              "      width: 32px;\n",
              "    }\n",
              "\n",
              "    .colab-df-convert:hover {\n",
              "      background-color: #E2EBFA;\n",
              "      box-shadow: 0px 1px 2px rgba(60, 64, 67, 0.3), 0px 1px 3px 1px rgba(60, 64, 67, 0.15);\n",
              "      fill: #174EA6;\n",
              "    }\n",
              "\n",
              "    [theme=dark] .colab-df-convert {\n",
              "      background-color: #3B4455;\n",
              "      fill: #D2E3FC;\n",
              "    }\n",
              "\n",
              "    [theme=dark] .colab-df-convert:hover {\n",
              "      background-color: #434B5C;\n",
              "      box-shadow: 0px 1px 3px 1px rgba(0, 0, 0, 0.15);\n",
              "      filter: drop-shadow(0px 1px 2px rgba(0, 0, 0, 0.3));\n",
              "      fill: #FFFFFF;\n",
              "    }\n",
              "  </style>\n",
              "\n",
              "      <script>\n",
              "        const buttonEl =\n",
              "          document.querySelector('#df-7fcc21f2-2b7c-4e4c-b190-33f2477f292e button.colab-df-convert');\n",
              "        buttonEl.style.display =\n",
              "          google.colab.kernel.accessAllowed ? 'block' : 'none';\n",
              "\n",
              "        async function convertToInteractive(key) {\n",
              "          const element = document.querySelector('#df-7fcc21f2-2b7c-4e4c-b190-33f2477f292e');\n",
              "          const dataTable =\n",
              "            await google.colab.kernel.invokeFunction('convertToInteractive',\n",
              "                                                     [key], {});\n",
              "          if (!dataTable) return;\n",
              "\n",
              "          const docLinkHtml = 'Like what you see? Visit the ' +\n",
              "            '<a target=\"_blank\" href=https://colab.research.google.com/notebooks/data_table.ipynb>data table notebook</a>'\n",
              "            + ' to learn more about interactive tables.';\n",
              "          element.innerHTML = '';\n",
              "          dataTable['output_type'] = 'display_data';\n",
              "          await google.colab.output.renderOutput(dataTable, element);\n",
              "          const docLink = document.createElement('div');\n",
              "          docLink.innerHTML = docLinkHtml;\n",
              "          element.appendChild(docLink);\n",
              "        }\n",
              "      </script>\n",
              "    </div>\n",
              "  </div>\n",
              "  "
            ]
          },
          "metadata": {},
          "execution_count": 128
        }
      ]
    },
    {
      "cell_type": "code",
      "source": [
        "# Split the dataset for testing and training\n",
        "from sklearn.model_selection import train_test_split # Import necessary library\n",
        "x_train, x_test, y_train, y_test = train_test_split(x, y, test_size= 0.4, random_state=69)"
      ],
      "metadata": {
        "id": "gmiEarO43UgM"
      },
      "execution_count": null,
      "outputs": []
    },
    {
      "cell_type": "code",
      "source": [
        "print(x_train.shape)\n",
        "print(x_test.shape)\n",
        "print(y_train.shape)\n",
        "print(y_test.shape)"
      ],
      "metadata": {
        "colab": {
          "base_uri": "https://localhost:8080/"
        },
        "outputId": "42520b69-1cbd-4835-ec8f-57b8a622415d",
        "id": "ccfl89lT3UgM"
      },
      "execution_count": null,
      "outputs": [
        {
          "output_type": "stream",
          "name": "stdout",
          "text": [
            "(11841, 2)\n",
            "(7894, 2)\n",
            "(11841,)\n",
            "(7894,)\n"
          ]
        }
      ]
    },
    {
      "cell_type": "code",
      "source": [
        "# Initialized theta for cost function\n",
        "theta = np.random.randint(100, size=(len(x.columns)))\n",
        "theta"
      ],
      "metadata": {
        "colab": {
          "base_uri": "https://localhost:8080/"
        },
        "outputId": "2fecc5b9-6c4a-4e36-ef2a-8600976c7945",
        "id": "W0WKFxgC3UgN"
      },
      "execution_count": null,
      "outputs": [
        {
          "output_type": "execute_result",
          "data": {
            "text/plain": [
              "array([60, 68])"
            ]
          },
          "metadata": {},
          "execution_count": 155
        }
      ]
    },
    {
      "cell_type": "code",
      "source": [
        "def costFunction(x, y, theta, N):\n",
        "\n",
        "    #hypothesis\n",
        "    hx = theta*x  \n",
        "    hx = np.sum(hx, axis=1)\n",
        "    finalCost = np.sum((hx-y)**2)/(2*N)\n",
        "    return finalCost"
      ],
      "metadata": {
        "id": "_GA3WfJq3UgN"
      },
      "execution_count": null,
      "outputs": []
    },
    {
      "cell_type": "code",
      "source": [
        "def gradientDescent(x, y, theta, learningRate, iterationsAmount,N):\n",
        "\n",
        "    #An array to record the cost at each itertion of the algorithm\n",
        "    stepwiseCosts = [] \n",
        "    while (iterationsAmount>0): \n",
        "\n",
        "        #hypothesis   \n",
        "        hx = theta*x  \n",
        "        hx = np.sum(hx, axis=1) \n",
        "        \n",
        "        #Updating all the theta values\n",
        "        for j in range(0, len(x.columns)):\n",
        "            theta[j] = theta[j] - (learningRate/N)*(sum((hx-y)*x.iloc[:,j]))\n",
        "\n",
        "        #recording cost at each itertion to the above array\n",
        "        stepwiseCosts.append(costFunction(x, y, theta,N)) \n",
        "        iterationsAmount-=1\n",
        "\n",
        "    return stepwiseCosts, theta"
      ],
      "metadata": {
        "id": "D8sFeWWq3UgN"
      },
      "execution_count": null,
      "outputs": []
    },
    {
      "cell_type": "markdown",
      "source": [
        "## • Model fitting"
      ],
      "metadata": {
        "id": "dlnsdGpF3UgN"
      }
    },
    {
      "cell_type": "code",
      "source": [
        "#Model configurations\n",
        "learningRate = 0.05\n",
        "iterationsAmount = 100\n",
        "#Number of datapoints\n",
        "N = float(len(df)) \n",
        "\n",
        "#Training the multivariate linear regression model\n",
        "stepwiseCosts, theta = gradientDescent(x_train, y_train, theta, learningRate, iterationsAmount,N)\n",
        "\n",
        "#Plotting convergence\n",
        "plt.figure()\n",
        "plt.xlabel('Number of iterations')\n",
        "plt.ylabel('Cost')\n",
        "plt.title('Convergence')\n",
        "plt.scatter(x=list(range(0, iterationsAmount)), y=stepwiseCosts)\n",
        "plt.show()"
      ],
      "metadata": {
        "colab": {
          "base_uri": "https://localhost:8080/",
          "height": 295
        },
        "outputId": "607cb16a-c73a-4fb3-aa2e-b3ca412b67ee",
        "id": "3xlh2lAi3UgN"
      },
      "execution_count": null,
      "outputs": [
        {
          "output_type": "display_data",
          "data": {
            "text/plain": [
              "<Figure size 432x288 with 1 Axes>"
            ],
            "image/png": "[encoded data removed]"
          },
          "metadata": {
            "needs_background": "light"
          }
        }
      ]
    },
    {
      "cell_type": "markdown",
      "source": [
        "## • Evaluation"
      ],
      "metadata": {
        "id": "oLBIdppz3UgN"
      }
    },
    {
      "cell_type": "code",
      "source": [
        "#Testing the accuracy of model with r2_score\n",
        "\n",
        "#hypothesis \n",
        "pred_y = theta*x_test \n",
        "pred_y = np.sum(pred_y, axis=1) \n",
        "\n",
        "from sklearn.metrics import r2_score\n",
        "print('The r2 score is: ',r2_score(y_test,pred_y))"
      ],
      "metadata": {
        "colab": {
          "base_uri": "https://localhost:8080/"
        },
        "outputId": "d5ee375d-c6d6-4438-84f7-81b76ac009c6",
        "id": "NnfKnWJo3UgN"
      },
      "execution_count": null,
      "outputs": [
        {
          "output_type": "stream",
          "name": "stdout",
          "text": [
            "The r2 score is:  0.7052509363658976\n"
          ]
        }
      ]
    },
    {
      "cell_type": "markdown",
      "source": [
        "# 2. Logistic Regression"
      ],
      "metadata": {
        "id": "SSC8CTVd4hEj"
      }
    },
    {
      "cell_type": "markdown",
      "source": [
        "## • Selection and a brief introduction to the data sets\n",
        "---\n",
        "The data set below was provided by the UCI ML Repository. Data was extracted using images obtained from fake and real banknote-like specimens. For digitisation, an industrial camera commonly used for print inspection was used. The final photos have 400 400 pixels. Grayscale images with a resolution of approximately 660 dpi were obtained, but this is dependent on the object lens and the distance to the item under investigation. The Wavelet Transform tool was used to extract features from photos.\n",
        "\n",
        "Selected Dataset [http://archive.ics.uci.edu/ml/machine-learning-databases/00267/data_banknote_authentication.txt ](http://archive.ics.uci.edu/ml/machine-learning-databases/00267/data_banknote_authentication.txt)\n",
        "\n",
        "### Information about the attribute:\n",
        "\n",
        "\n",
        "---\n",
        "* variation in the transformed Wavelet image (continuous)\n",
        "* Scale of the Wavelet altered picture (continuous)\n",
        "* curve of the Wavelet altered picture (continuous)\n",
        "* picture entropy (continuous)\n",
        "* class (integer)"
      ],
      "metadata": {
        "id": "in1bEhK_4xvM"
      }
    },
    {
      "cell_type": "code",
      "execution_count": null,
      "metadata": {
        "id": "L7EydNCT6EQx"
      },
      "outputs": [],
      "source": [
        "# Importing required libraries\n",
        "import pandas as pd\n",
        "import numpy as np\n",
        "import matplotlib.pyplot as plt"
      ]
    },
    {
      "cell_type": "code",
      "source": [
        "# Importing data set from UCI\n",
        "dataFile = 'http://archive.ics.uci.edu/ml/machine-learning-databases/00267/data_banknote_authentication.txt'"
      ],
      "metadata": {
        "id": "-89QCut06UMZ"
      },
      "execution_count": null,
      "outputs": []
    },
    {
      "cell_type": "code",
      "source": [
        "# Read data from the file\n",
        "data = pd.read_csv(dataFile,header=None)\n",
        "data.head()"
      ],
      "metadata": {
        "colab": {
          "base_uri": "https://localhost:8080/",
          "height": 206
        },
        "outputId": "29f3239d-c1ce-468b-b18a-3d9afbdccf94",
        "id": "RGjCbL-x6UMa"
      },
      "execution_count": null,
      "outputs": [
        {
          "output_type": "execute_result",
          "data": {
            "text/plain": [
              "         0       1       2        3  4\n",
              "0  3.62160  8.6661 -2.8073 -0.44699  0\n",
              "1  4.54590  8.1674 -2.4586 -1.46210  0\n",
              "2  3.86600 -2.6383  1.9242  0.10645  0\n",
              "3  3.45660  9.5228 -4.0112 -3.59440  0\n",
              "4  0.32924 -4.4552  4.5718 -0.98880  0"
            ],
            "text/html": [
              "\n",
              "  <div id=\"df-17593611-a202-41ee-ab50-eada7ffe1572\">\n",
              "    <div class=\"colab-df-container\">\n",
              "      <div>\n",
              "<style scoped>\n",
              "    .dataframe tbody tr th:only-of-type {\n",
              "        vertical-align: middle;\n",
              "    }\n",
              "\n",
              "    .dataframe tbody tr th {\n",
              "        vertical-align: top;\n",
              "    }\n",
              "\n",
              "    .dataframe thead th {\n",
              "        text-align: right;\n",
              "    }\n",
              "</style>\n",
              "<table border=\"1\" class=\"dataframe\">\n",
              "  <thead>\n",
              "    <tr style=\"text-align: right;\">\n",
              "      <th></th>\n",
              "      <th>0</th>\n",
              "      <th>1</th>\n",
              "      <th>2</th>\n",
              "      <th>3</th>\n",
              "      <th>4</th>\n",
              "    </tr>\n",
              "  </thead>\n",
              "  <tbody>\n",
              "    <tr>\n",
              "      <th>0</th>\n",
              "      <td>3.62160</td>\n",
              "      <td>8.6661</td>\n",
              "      <td>-2.8073</td>\n",
              "      <td>-0.44699</td>\n",
              "      <td>0</td>\n",
              "    </tr>\n",
              "    <tr>\n",
              "      <th>1</th>\n",
              "      <td>4.54590</td>\n",
              "      <td>8.1674</td>\n",
              "      <td>-2.4586</td>\n",
              "      <td>-1.46210</td>\n",
              "      <td>0</td>\n",
              "    </tr>\n",
              "    <tr>\n",
              "      <th>2</th>\n",
              "      <td>3.86600</td>\n",
              "      <td>-2.6383</td>\n",
              "      <td>1.9242</td>\n",
              "      <td>0.10645</td>\n",
              "      <td>0</td>\n",
              "    </tr>\n",
              "    <tr>\n",
              "      <th>3</th>\n",
              "      <td>3.45660</td>\n",
              "      <td>9.5228</td>\n",
              "      <td>-4.0112</td>\n",
              "      <td>-3.59440</td>\n",
              "      <td>0</td>\n",
              "    </tr>\n",
              "    <tr>\n",
              "      <th>4</th>\n",
              "      <td>0.32924</td>\n",
              "      <td>-4.4552</td>\n",
              "      <td>4.5718</td>\n",
              "      <td>-0.98880</td>\n",
              "      <td>0</td>\n",
              "    </tr>\n",
              "  </tbody>\n",
              "</table>\n",
              "</div>\n",
              "      <button class=\"colab-df-convert\" onclick=\"convertToInteractive('df-17593611-a202-41ee-ab50-eada7ffe1572')\"\n",
              "              title=\"Convert this dataframe to an interactive table.\"\n",
              "              style=\"display:none;\">\n",
              "        \n",
              "  <svg xmlns=\"http://www.w3.org/2000/svg\" height=\"24px\"viewBox=\"0 0 24 24\"\n",
              "       width=\"24px\">\n",
              "    <path d=\"M0 0h24v24H0V0z\" fill=\"none\"/>\n",
              "    <path d=\"M18.56 5.44l.94 2.06.94-2.06 2.06-.94-2.06-.94-.94-2.06-.94 2.06-2.06.94zm-11 1L8.5 8.5l.94-2.06 2.06-.94-2.06-.94L8.5 2.5l-.94 2.06-2.06.94zm10 10l.94 2.06.94-2.06 2.06-.94-2.06-.94-.94-2.06-.94 2.06-2.06.94z\"/><path d=\"M17.41 7.96l-1.37-1.37c-.4-.4-.92-.59-1.43-.59-.52 0-1.04.2-1.43.59L10.3 9.45l-7.72 7.72c-.78.78-.78 2.05 0 2.83L4 21.41c.39.39.9.59 1.41.59.51 0 1.02-.2 1.41-.59l7.78-7.78 2.81-2.81c.8-.78.8-2.07 0-2.86zM5.41 20L4 18.59l7.72-7.72 1.47 1.35L5.41 20z\"/>\n",
              "  </svg>\n",
              "      </button>\n",
              "      \n",
              "  <style>\n",
              "    .colab-df-container {\n",
              "      display:flex;\n",
              "      flex-wrap:wrap;\n",
              "      gap: 12px;\n",
              "    }\n",
              "\n",
              "    .colab-df-convert {\n",
              "      background-color: #E8F0FE;\n",
              "      border: none;\n",
              "      border-radius: 50%;\n",
              "      cursor: pointer;\n",
              "      display: none;\n",
              "      fill: #1967D2;\n",
              "      height: 32px;\n",
              "      padding: 0 0 0 0;\n",
              "      width: 32px;\n",
              "    }\n",
              "\n",
              "    .colab-df-convert:hover {\n",
              "      background-color: #E2EBFA;\n",
              "      box-shadow: 0px 1px 2px rgba(60, 64, 67, 0.3), 0px 1px 3px 1px rgba(60, 64, 67, 0.15);\n",
              "      fill: #174EA6;\n",
              "    }\n",
              "\n",
              "    [theme=dark] .colab-df-convert {\n",
              "      background-color: #3B4455;\n",
              "      fill: #D2E3FC;\n",
              "    }\n",
              "\n",
              "    [theme=dark] .colab-df-convert:hover {\n",
              "      background-color: #434B5C;\n",
              "      box-shadow: 0px 1px 3px 1px rgba(0, 0, 0, 0.15);\n",
              "      filter: drop-shadow(0px 1px 2px rgba(0, 0, 0, 0.3));\n",
              "      fill: #FFFFFF;\n",
              "    }\n",
              "  </style>\n",
              "\n",
              "      <script>\n",
              "        const buttonEl =\n",
              "          document.querySelector('#df-17593611-a202-41ee-ab50-eada7ffe1572 button.colab-df-convert');\n",
              "        buttonEl.style.display =\n",
              "          google.colab.kernel.accessAllowed ? 'block' : 'none';\n",
              "\n",
              "        async function convertToInteractive(key) {\n",
              "          const element = document.querySelector('#df-17593611-a202-41ee-ab50-eada7ffe1572');\n",
              "          const dataTable =\n",
              "            await google.colab.kernel.invokeFunction('convertToInteractive',\n",
              "                                                     [key], {});\n",
              "          if (!dataTable) return;\n",
              "\n",
              "          const docLinkHtml = 'Like what you see? Visit the ' +\n",
              "            '<a target=\"_blank\" href=https://colab.research.google.com/notebooks/data_table.ipynb>data table notebook</a>'\n",
              "            + ' to learn more about interactive tables.';\n",
              "          element.innerHTML = '';\n",
              "          dataTable['output_type'] = 'display_data';\n",
              "          await google.colab.output.renderOutput(dataTable, element);\n",
              "          const docLink = document.createElement('div');\n",
              "          docLink.innerHTML = docLinkHtml;\n",
              "          element.appendChild(docLink);\n",
              "        }\n",
              "      </script>\n",
              "    </div>\n",
              "  </div>\n",
              "  "
            ]
          },
          "metadata": {},
          "execution_count": 166
        }
      ]
    },
    {
      "cell_type": "markdown",
      "source": [
        "## • Data preprocessing\n",
        "\n",
        "---\n"
      ],
      "metadata": {
        "id": "SJsrw4L87dhG"
      }
    },
    {
      "cell_type": "code",
      "source": [
        "# Independent Variable is x\n",
        "x = data.drop(columns=3)\n",
        "x.head()"
      ],
      "metadata": {
        "colab": {
          "base_uri": "https://localhost:8080/",
          "height": 206
        },
        "outputId": "82962558-74b2-4701-af19-00a2759ddcc8",
        "id": "l8mWHgPh6hvc"
      },
      "execution_count": null,
      "outputs": [
        {
          "output_type": "execute_result",
          "data": {
            "text/plain": [
              "         0       1       2  4\n",
              "0  3.62160  8.6661 -2.8073  0\n",
              "1  4.54590  8.1674 -2.4586  0\n",
              "2  3.86600 -2.6383  1.9242  0\n",
              "3  3.45660  9.5228 -4.0112  0\n",
              "4  0.32924 -4.4552  4.5718  0"
            ],
            "text/html": [
              "\n",
              "  <div id=\"df-698ce0ee-0ac1-405e-8794-53165f447ffc\">\n",
              "    <div class=\"colab-df-container\">\n",
              "      <div>\n",
              "<style scoped>\n",
              "    .dataframe tbody tr th:only-of-type {\n",
              "        vertical-align: middle;\n",
              "    }\n",
              "\n",
              "    .dataframe tbody tr th {\n",
              "        vertical-align: top;\n",
              "    }\n",
              "\n",
              "    .dataframe thead th {\n",
              "        text-align: right;\n",
              "    }\n",
              "</style>\n",
              "<table border=\"1\" class=\"dataframe\">\n",
              "  <thead>\n",
              "    <tr style=\"text-align: right;\">\n",
              "      <th></th>\n",
              "      <th>0</th>\n",
              "      <th>1</th>\n",
              "      <th>2</th>\n",
              "      <th>4</th>\n",
              "    </tr>\n",
              "  </thead>\n",
              "  <tbody>\n",
              "    <tr>\n",
              "      <th>0</th>\n",
              "      <td>3.62160</td>\n",
              "      <td>8.6661</td>\n",
              "      <td>-2.8073</td>\n",
              "      <td>0</td>\n",
              "    </tr>\n",
              "    <tr>\n",
              "      <th>1</th>\n",
              "      <td>4.54590</td>\n",
              "      <td>8.1674</td>\n",
              "      <td>-2.4586</td>\n",
              "      <td>0</td>\n",
              "    </tr>\n",
              "    <tr>\n",
              "      <th>2</th>\n",
              "      <td>3.86600</td>\n",
              "      <td>-2.6383</td>\n",
              "      <td>1.9242</td>\n",
              "      <td>0</td>\n",
              "    </tr>\n",
              "    <tr>\n",
              "      <th>3</th>\n",
              "      <td>3.45660</td>\n",
              "      <td>9.5228</td>\n",
              "      <td>-4.0112</td>\n",
              "      <td>0</td>\n",
              "    </tr>\n",
              "    <tr>\n",
              "      <th>4</th>\n",
              "      <td>0.32924</td>\n",
              "      <td>-4.4552</td>\n",
              "      <td>4.5718</td>\n",
              "      <td>0</td>\n",
              "    </tr>\n",
              "  </tbody>\n",
              "</table>\n",
              "</div>\n",
              "      <button class=\"colab-df-convert\" onclick=\"convertToInteractive('df-698ce0ee-0ac1-405e-8794-53165f447ffc')\"\n",
              "              title=\"Convert this dataframe to an interactive table.\"\n",
              "              style=\"display:none;\">\n",
              "        \n",
              "  <svg xmlns=\"http://www.w3.org/2000/svg\" height=\"24px\"viewBox=\"0 0 24 24\"\n",
              "       width=\"24px\">\n",
              "    <path d=\"M0 0h24v24H0V0z\" fill=\"none\"/>\n",
              "    <path d=\"M18.56 5.44l.94 2.06.94-2.06 2.06-.94-2.06-.94-.94-2.06-.94 2.06-2.06.94zm-11 1L8.5 8.5l.94-2.06 2.06-.94-2.06-.94L8.5 2.5l-.94 2.06-2.06.94zm10 10l.94 2.06.94-2.06 2.06-.94-2.06-.94-.94-2.06-.94 2.06-2.06.94z\"/><path d=\"M17.41 7.96l-1.37-1.37c-.4-.4-.92-.59-1.43-.59-.52 0-1.04.2-1.43.59L10.3 9.45l-7.72 7.72c-.78.78-.78 2.05 0 2.83L4 21.41c.39.39.9.59 1.41.59.51 0 1.02-.2 1.41-.59l7.78-7.78 2.81-2.81c.8-.78.8-2.07 0-2.86zM5.41 20L4 18.59l7.72-7.72 1.47 1.35L5.41 20z\"/>\n",
              "  </svg>\n",
              "      </button>\n",
              "      \n",
              "  <style>\n",
              "    .colab-df-container {\n",
              "      display:flex;\n",
              "      flex-wrap:wrap;\n",
              "      gap: 12px;\n",
              "    }\n",
              "\n",
              "    .colab-df-convert {\n",
              "      background-color: #E8F0FE;\n",
              "      border: none;\n",
              "      border-radius: 50%;\n",
              "      cursor: pointer;\n",
              "      display: none;\n",
              "      fill: #1967D2;\n",
              "      height: 32px;\n",
              "      padding: 0 0 0 0;\n",
              "      width: 32px;\n",
              "    }\n",
              "\n",
              "    .colab-df-convert:hover {\n",
              "      background-color: #E2EBFA;\n",
              "      box-shadow: 0px 1px 2px rgba(60, 64, 67, 0.3), 0px 1px 3px 1px rgba(60, 64, 67, 0.15);\n",
              "      fill: #174EA6;\n",
              "    }\n",
              "\n",
              "    [theme=dark] .colab-df-convert {\n",
              "      background-color: #3B4455;\n",
              "      fill: #D2E3FC;\n",
              "    }\n",
              "\n",
              "    [theme=dark] .colab-df-convert:hover {\n",
              "      background-color: #434B5C;\n",
              "      box-shadow: 0px 1px 3px 1px rgba(0, 0, 0, 0.15);\n",
              "      filter: drop-shadow(0px 1px 2px rgba(0, 0, 0, 0.3));\n",
              "      fill: #FFFFFF;\n",
              "    }\n",
              "  </style>\n",
              "\n",
              "      <script>\n",
              "        const buttonEl =\n",
              "          document.querySelector('#df-698ce0ee-0ac1-405e-8794-53165f447ffc button.colab-df-convert');\n",
              "        buttonEl.style.display =\n",
              "          google.colab.kernel.accessAllowed ? 'block' : 'none';\n",
              "\n",
              "        async function convertToInteractive(key) {\n",
              "          const element = document.querySelector('#df-698ce0ee-0ac1-405e-8794-53165f447ffc');\n",
              "          const dataTable =\n",
              "            await google.colab.kernel.invokeFunction('convertToInteractive',\n",
              "                                                     [key], {});\n",
              "          if (!dataTable) return;\n",
              "\n",
              "          const docLinkHtml = 'Like what you see? Visit the ' +\n",
              "            '<a target=\"_blank\" href=https://colab.research.google.com/notebooks/data_table.ipynb>data table notebook</a>'\n",
              "            + ' to learn more about interactive tables.';\n",
              "          element.innerHTML = '';\n",
              "          dataTable['output_type'] = 'display_data';\n",
              "          await google.colab.output.renderOutput(dataTable, element);\n",
              "          const docLink = document.createElement('div');\n",
              "          docLink.innerHTML = docLinkHtml;\n",
              "          element.appendChild(docLink);\n",
              "        }\n",
              "      </script>\n",
              "    </div>\n",
              "  </div>\n",
              "  "
            ]
          },
          "metadata": {},
          "execution_count": 169
        }
      ]
    },
    {
      "cell_type": "code",
      "source": [
        "# Dependent variable\n",
        "y = data.iloc[:,4]\n",
        "y.head()"
      ],
      "metadata": {
        "colab": {
          "base_uri": "https://localhost:8080/"
        },
        "outputId": "20238043-eba8-4f9a-b277-510f61c17ca3",
        "id": "o1c7Bhrq6hvd"
      },
      "execution_count": null,
      "outputs": [
        {
          "output_type": "execute_result",
          "data": {
            "text/plain": [
              "0    0\n",
              "1    0\n",
              "2    0\n",
              "3    0\n",
              "4    0\n",
              "Name: 4, dtype: int64"
            ]
          },
          "metadata": {},
          "execution_count": 171
        }
      ]
    },
    {
      "cell_type": "code",
      "source": [
        "# Normalize the fetures\n",
        "for i  in x.columns:\n",
        "  maxValue = max(x[i])\n",
        "  x[i] /= maxValue"
      ],
      "metadata": {
        "id": "ltWO7sBN7EXV"
      },
      "execution_count": null,
      "outputs": []
    },
    {
      "cell_type": "code",
      "source": [
        "# Normalized data\n",
        "x.head()"
      ],
      "metadata": {
        "colab": {
          "base_uri": "https://localhost:8080/",
          "height": 206
        },
        "outputId": "e3d3aeb4-a0e2-4efd-eca0-5fa7c9ba47e0",
        "id": "VQ0SFrMv7EXV"
      },
      "execution_count": null,
      "outputs": [
        {
          "output_type": "execute_result",
          "data": {
            "text/plain": [
              "          0         1         2    4\n",
              "0  0.530653  0.669114 -0.156593  0.0\n",
              "1  0.666085  0.630609 -0.137142  0.0\n",
              "2  0.566463 -0.203705  0.107333  0.0\n",
              "3  0.506476  0.735261 -0.223747  0.0\n",
              "4  0.048242 -0.343988  0.255017  0.0"
            ],
            "text/html": [
              "\n",
              "  <div id=\"df-606cb742-c84f-45b4-929c-16599f3a9799\">\n",
              "    <div class=\"colab-df-container\">\n",
              "      <div>\n",
              "<style scoped>\n",
              "    .dataframe tbody tr th:only-of-type {\n",
              "        vertical-align: middle;\n",
              "    }\n",
              "\n",
              "    .dataframe tbody tr th {\n",
              "        vertical-align: top;\n",
              "    }\n",
              "\n",
              "    .dataframe thead th {\n",
              "        text-align: right;\n",
              "    }\n",
              "</style>\n",
              "<table border=\"1\" class=\"dataframe\">\n",
              "  <thead>\n",
              "    <tr style=\"text-align: right;\">\n",
              "      <th></th>\n",
              "      <th>0</th>\n",
              "      <th>1</th>\n",
              "      <th>2</th>\n",
              "      <th>4</th>\n",
              "    </tr>\n",
              "  </thead>\n",
              "  <tbody>\n",
              "    <tr>\n",
              "      <th>0</th>\n",
              "      <td>0.530653</td>\n",
              "      <td>0.669114</td>\n",
              "      <td>-0.156593</td>\n",
              "      <td>0.0</td>\n",
              "    </tr>\n",
              "    <tr>\n",
              "      <th>1</th>\n",
              "      <td>0.666085</td>\n",
              "      <td>0.630609</td>\n",
              "      <td>-0.137142</td>\n",
              "      <td>0.0</td>\n",
              "    </tr>\n",
              "    <tr>\n",
              "      <th>2</th>\n",
              "      <td>0.566463</td>\n",
              "      <td>-0.203705</td>\n",
              "      <td>0.107333</td>\n",
              "      <td>0.0</td>\n",
              "    </tr>\n",
              "    <tr>\n",
              "      <th>3</th>\n",
              "      <td>0.506476</td>\n",
              "      <td>0.735261</td>\n",
              "      <td>-0.223747</td>\n",
              "      <td>0.0</td>\n",
              "    </tr>\n",
              "    <tr>\n",
              "      <th>4</th>\n",
              "      <td>0.048242</td>\n",
              "      <td>-0.343988</td>\n",
              "      <td>0.255017</td>\n",
              "      <td>0.0</td>\n",
              "    </tr>\n",
              "  </tbody>\n",
              "</table>\n",
              "</div>\n",
              "      <button class=\"colab-df-convert\" onclick=\"convertToInteractive('df-606cb742-c84f-45b4-929c-16599f3a9799')\"\n",
              "              title=\"Convert this dataframe to an interactive table.\"\n",
              "              style=\"display:none;\">\n",
              "        \n",
              "  <svg xmlns=\"http://www.w3.org/2000/svg\" height=\"24px\"viewBox=\"0 0 24 24\"\n",
              "       width=\"24px\">\n",
              "    <path d=\"M0 0h24v24H0V0z\" fill=\"none\"/>\n",
              "    <path d=\"M18.56 5.44l.94 2.06.94-2.06 2.06-.94-2.06-.94-.94-2.06-.94 2.06-2.06.94zm-11 1L8.5 8.5l.94-2.06 2.06-.94-2.06-.94L8.5 2.5l-.94 2.06-2.06.94zm10 10l.94 2.06.94-2.06 2.06-.94-2.06-.94-.94-2.06-.94 2.06-2.06.94z\"/><path d=\"M17.41 7.96l-1.37-1.37c-.4-.4-.92-.59-1.43-.59-.52 0-1.04.2-1.43.59L10.3 9.45l-7.72 7.72c-.78.78-.78 2.05 0 2.83L4 21.41c.39.39.9.59 1.41.59.51 0 1.02-.2 1.41-.59l7.78-7.78 2.81-2.81c.8-.78.8-2.07 0-2.86zM5.41 20L4 18.59l7.72-7.72 1.47 1.35L5.41 20z\"/>\n",
              "  </svg>\n",
              "      </button>\n",
              "      \n",
              "  <style>\n",
              "    .colab-df-container {\n",
              "      display:flex;\n",
              "      flex-wrap:wrap;\n",
              "      gap: 12px;\n",
              "    }\n",
              "\n",
              "    .colab-df-convert {\n",
              "      background-color: #E8F0FE;\n",
              "      border: none;\n",
              "      border-radius: 50%;\n",
              "      cursor: pointer;\n",
              "      display: none;\n",
              "      fill: #1967D2;\n",
              "      height: 32px;\n",
              "      padding: 0 0 0 0;\n",
              "      width: 32px;\n",
              "    }\n",
              "\n",
              "    .colab-df-convert:hover {\n",
              "      background-color: #E2EBFA;\n",
              "      box-shadow: 0px 1px 2px rgba(60, 64, 67, 0.3), 0px 1px 3px 1px rgba(60, 64, 67, 0.15);\n",
              "      fill: #174EA6;\n",
              "    }\n",
              "\n",
              "    [theme=dark] .colab-df-convert {\n",
              "      background-color: #3B4455;\n",
              "      fill: #D2E3FC;\n",
              "    }\n",
              "\n",
              "    [theme=dark] .colab-df-convert:hover {\n",
              "      background-color: #434B5C;\n",
              "      box-shadow: 0px 1px 3px 1px rgba(0, 0, 0, 0.15);\n",
              "      filter: drop-shadow(0px 1px 2px rgba(0, 0, 0, 0.3));\n",
              "      fill: #FFFFFF;\n",
              "    }\n",
              "  </style>\n",
              "\n",
              "      <script>\n",
              "        const buttonEl =\n",
              "          document.querySelector('#df-606cb742-c84f-45b4-929c-16599f3a9799 button.colab-df-convert');\n",
              "        buttonEl.style.display =\n",
              "          google.colab.kernel.accessAllowed ? 'block' : 'none';\n",
              "\n",
              "        async function convertToInteractive(key) {\n",
              "          const element = document.querySelector('#df-606cb742-c84f-45b4-929c-16599f3a9799');\n",
              "          const dataTable =\n",
              "            await google.colab.kernel.invokeFunction('convertToInteractive',\n",
              "                                                     [key], {});\n",
              "          if (!dataTable) return;\n",
              "\n",
              "          const docLinkHtml = 'Like what you see? Visit the ' +\n",
              "            '<a target=\"_blank\" href=https://colab.research.google.com/notebooks/data_table.ipynb>data table notebook</a>'\n",
              "            + ' to learn more about interactive tables.';\n",
              "          element.innerHTML = '';\n",
              "          dataTable['output_type'] = 'display_data';\n",
              "          await google.colab.output.renderOutput(dataTable, element);\n",
              "          const docLink = document.createElement('div');\n",
              "          docLink.innerHTML = docLinkHtml;\n",
              "          element.appendChild(docLink);\n",
              "        }\n",
              "      </script>\n",
              "    </div>\n",
              "  </div>\n",
              "  "
            ]
          },
          "metadata": {},
          "execution_count": 173
        }
      ]
    },
    {
      "cell_type": "code",
      "source": [
        "# Split the dataset for testing and training\n",
        "from sklearn.model_selection import train_test_split # Import necessary library\n",
        "x_train, x_test, y_train, y_test = train_test_split(x, y, test_size= 0.4, random_state=69)"
      ],
      "metadata": {
        "id": "vsqSSZp47EXV"
      },
      "execution_count": null,
      "outputs": []
    },
    {
      "cell_type": "code",
      "source": [
        "print(x_train.shape)\n",
        "print(x_test.shape)\n",
        "print(y_train.shape)\n",
        "print(y_test.shape)"
      ],
      "metadata": {
        "colab": {
          "base_uri": "https://localhost:8080/"
        },
        "outputId": "e7acea08-6481-4801-e885-d62673ca99f8",
        "id": "rkA8qrNy7EXV"
      },
      "execution_count": null,
      "outputs": [
        {
          "output_type": "stream",
          "name": "stdout",
          "text": [
            "(823, 4)\n",
            "(549, 4)\n",
            "(823,)\n",
            "(549,)\n"
          ]
        }
      ]
    },
    {
      "cell_type": "markdown",
      "source": [
        "## • Model fitting"
      ],
      "metadata": {
        "id": "KqjEWZrG7lYI"
      }
    },
    {
      "cell_type": "code",
      "source": [
        "# Import LogisticRegression from sklearn\n",
        "from sklearn.linear_model import LogisticRegression\n",
        "model = LogisticRegression()\n",
        "model.fit(x_train, y_train)"
      ],
      "metadata": {
        "colab": {
          "base_uri": "https://localhost:8080/"
        },
        "id": "T6l_CXON7muW",
        "outputId": "41ee68d0-dd1f-49f9-a011-4f8ac9a03f11"
      },
      "execution_count": null,
      "outputs": [
        {
          "output_type": "execute_result",
          "data": {
            "text/plain": [
              "LogisticRegression()"
            ]
          },
          "metadata": {},
          "execution_count": 176
        }
      ]
    },
    {
      "cell_type": "markdown",
      "source": [
        "## • Evaluation"
      ],
      "metadata": {
        "id": "NX1ZhSzr8Nz-"
      }
    },
    {
      "cell_type": "code",
      "source": [
        "pred = model.predict(x_test)"
      ],
      "metadata": {
        "id": "o-3Kx0dl8Ocf"
      },
      "execution_count": null,
      "outputs": []
    },
    {
      "cell_type": "code",
      "source": [
        "# Calculate the accuracy_score\n",
        "from sklearn.metrics import accuracy_score\n",
        "accuracy_score(y_test, pred)"
      ],
      "metadata": {
        "id": "dMIye3ZDlDPp",
        "outputId": "1b93a5a3-052c-4e8b-d5c2-0c9cbe980349",
        "colab": {
          "base_uri": "https://localhost:8080/"
        }
      },
      "execution_count": null,
      "outputs": [
        {
          "output_type": "execute_result",
          "data": {
            "text/plain": [
              "1.0"
            ]
          },
          "metadata": {},
          "execution_count": 187
        }
      ]
    },
    {
      "cell_type": "code",
      "source": [
        "# Evoluate from confusion_matrix\n",
        "from sklearn.metrics import confusion_matrix\n",
        "confusion_matrix(y_test, pred)"
      ],
      "metadata": {
        "id": "76Rbp1yVlF_C",
        "outputId": "b77cae91-53fa-40d5-97ee-84a8665fc2be",
        "colab": {
          "base_uri": "https://localhost:8080/"
        }
      },
      "execution_count": null,
      "outputs": [
        {
          "output_type": "execute_result",
          "data": {
            "text/plain": [
              "array([[309,   0],\n",
              "       [  0, 240]])"
            ]
          },
          "metadata": {},
          "execution_count": 189
        }
      ]
    }
  ]
}